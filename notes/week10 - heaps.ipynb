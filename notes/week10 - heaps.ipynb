{
 "cells": [
  {
   "cell_type": "markdown",
   "metadata": {
    "collapsed": true,
    "pycharm": {
     "name": "#%% md\n"
    }
   },
   "source": [
    "# Heaps\n"
   ]
  },
  {
   "cell_type": "markdown",
   "metadata": {
    "pycharm": {
     "metadata": false,
     "name": "#%% md\n"
    }
   },
   "source": [
    "Heaps are trees whose nodes are ordered in a very specific way called the \n",
    "**heap property**.\n",
    "<br>\n",
    "* For any given node **t** , all nodes below it (children) have data values less\n",
    "than or equal to __t__\n",
    "* Heaps are binary trees\n",
    "* And heaps are **nearly complete** meaning:\n",
    "    * All nodes have two children except for nodes on the last level\n",
    "    * The leafs on the last level are populated from left to right with no gaps in between "
   ]
  },
  {
   "cell_type": "markdown",
   "metadata": {
    "pycharm": {
     "metadata": false,
     "name": "#%% md\n"
    }
   },
   "source": [
    "### Adding to heap\n",
    "1. Add the value as a new bottom node (leaf) \n",
    "2. Compare the leaf with its parent and swap if the leaf is greater\n",
    "3. Repeat step 2 until the parent is greater than or equal to "
   ]
  },
  {
   "cell_type": "markdown",
   "metadata": {
    "pycharm": {
     "metadata": false,
     "name": "#%% md\n"
    }
   },
   "source": [
    "### Fixing a broken heap (heapify)\n",
    "Push the violating element down until the heap property is satisfied \n",
    "1. Start at the violating element **v**\n",
    "2. Find the largest child of **v** and swap\n",
    "3. Check if heap is still broken\n",
    "4. Repeat step 2 and 3"
   ]
  },
  {
   "cell_type": "markdown",
   "metadata": {
    "pycharm": {
     "metadata": false,
     "name": "#%% md\n"
    }
   },
   "source": [
    "### Remove root of heap\n",
    "1. Replace the root with the last level leaf **(the one furthest to the right)** \n",
    "2. Remove the last level leaf\n",
    "3. Heapify starting at the root"
   ]
  },
  {
   "cell_type": "markdown",
   "metadata": {
    "pycharm": {
     "metadata": false,
     "name": "#%% md\n"
    }
   },
   "source": [
    "### Heap implementation (using ArrayList)\n",
    "Store the heap as an array in a breadth first search fashion. \n",
    "* For any **i-th** element \n",
    "    * Its left child is **2i+1** \n",
    "    * Its right child is **2i+2**\n",
    "    * Its parent is **(i-1)//2**"
   ]
  },
  {
   "cell_type": "code",
   "execution_count": 20,
   "metadata": {
    "pycharm": {
     "is_executing": false,
     "metadata": false,
     "name": "#%%\n"
    }
   },
   "outputs": [],
   "source": [
    "class Heap:\n",
    "    \n",
    "    def __init__(self):\n",
    "        self.internal_list = ArrayList()\n",
    "        self.size = 0\n",
    "    \n",
    "    def add(self, d):\n",
    "        # First append the element to the end of the heap\n",
    "        self.internal_list.append(d)\n",
    "        \n",
    "        i = self.size \n",
    "        self.size += 1\n",
    "        \n",
    "        # While the element is not the root and\n",
    "        # If this element is greater than its parent swap\n",
    "        while i > 0 \\\n",
    "            and self.internal_list.get(i) > self.internal_list.get((i-1)//2):\n",
    "                \n",
    "                # Do the swap and change the index to match the swap\n",
    "                self.internal_list.swap(i, (i-1)//2)\n",
    "                i = (i-1)//2\n",
    "        \n",
    "    def heapify(self, i):\n",
    "        \n",
    "        # If the this node has no right child return \n",
    "        # (It is already in the correct position\n",
    "        if 2*i+1 >= self.size: \n",
    "            return \n",
    "        \n",
    "        # Find the max child of this element\n",
    "        \n",
    "        # If the left child is greater than the right child\n",
    "        if 2*i+2 >= self.size or self.internal_list.get(2*i+1) > self.internal_list.get(2*i+2):\n",
    "            # Set the max child as the left child\n",
    "             max_child = 2*i+1\n",
    "        else:\n",
    "            # Set the max child as the right child\n",
    "            max_child = 2*i+2\n",
    "            \n",
    "        # If the max child is less than this element return\n",
    "        if self.internal_list.get(max_child) < self.internal_list.get(i):\n",
    "            return \n",
    "        \n",
    "        # Otherwise do the swap with this element and its max child\n",
    "        self.internal_list.swap(i, max_child)\n",
    "        # And run heapify again on this max child\n",
    "        self.heapify(max_child)\n",
    "    \n",
    "    def remove_root(self):\n",
    "        root = self.internal_list.get(0) # Save the root (to be removed)\n",
    "        last_leaf = self.internal_list.get(self.size-1) # The last leaf to replace the root\n",
    "        self.internal_list.set(0, last_leaf) # Set the last leaf as the root\n",
    "        self.internal_list.remove(self.size-1) # Remove the last leaf\n",
    "        self.size -= 1 \n",
    "        self.heapify(0) # Heapify starting from the root\n",
    "        return root"
   ]
  },
  {
   "cell_type": "markdown",
   "metadata": {
    "pycharm": {
     "metadata": false,
     "name": "#%% md\n"
    }
   },
   "source": [
    "### Sorting an array using a heap (heapsort)\n",
    "1. Create an empty heap **h**\n",
    "2. Add all elements of the array **A** to the heap __h__\n",
    "3. Starting at the end of the array **A** (i = [len(A)-1])\n",
    "    1. Remove the root from the heap **h** and place it in __A[i]__\n",
    "    2. Decrement **i by 1**\n",
    "    3. Stop when the start of the array **A** is reached"
   ]
  },
  {
   "cell_type": "code",
   "execution_count": 21,
   "metadata": {
    "pycharm": {
     "is_executing": false,
     "metadata": false,
     "name": "#%%\n"
    }
   },
   "outputs": [
    {
     "name": "stdout",
     "output_type": "stream",
     "text": [
      "[5, 5, 6, 8, 10, 12, 23, 45, 50, 78]\n"
     ]
    }
   ],
   "source": [
    "def heap_sort(A):\n",
    "    h = Heap()\n",
    "    \n",
    "    # Add all elements from A to the heap\n",
    "    for i in range(len(A)):\n",
    "        h.add(A[i])\n",
    "        \n",
    "    for i in range(len(A)-1, -1, -1):\n",
    "        A[i] = h.remove_root()\n",
    "        \n",
    "    return A\n",
    "\n",
    "A = [12, 5, 78, 50, 5, 23, 45, 10, 6, 8]\n",
    "print(heap_sort(A))"
   ]
  },
  {
   "cell_type": "code",
   "execution_count": 17,
   "metadata": {
    "pycharm": {
     "is_executing": false,
     "metadata": false,
     "name": "#%%\n"
    }
   },
   "outputs": [],
   "source": [
    "class ArrayList:\n",
    "\n",
    "    def __init__(self):\n",
    "        self.internal_array = [0 for i in range(10)]\n",
    "        self.count = 0\n",
    "        \n",
    "    def get(self, i):\n",
    "        return self.internal_array[i]\n",
    "    \n",
    "    def set(self, i, e):\n",
    "        self.internal_array[i] = e\n",
    "        \n",
    "    def length(self):\n",
    "        return self.count\n",
    "    \n",
    "    def append(self, e):\n",
    "        self.internal_array[self.count] = e\n",
    "        self.count += 1\n",
    "        \n",
    "        if len(self.internal_array) == self.count:\n",
    "            self._resize_up()\n",
    "            \n",
    "    def remove(self, i):\n",
    "        self.count -= 1\n",
    "        to_remove = self.internal_array[i]\n",
    "        \n",
    "        for j in range(i, self.count):\n",
    "            self.internal_array[j] = self.internal_array[j+1]\n",
    "        \n",
    "        return to_remove\n",
    "    \n",
    "    def insert(self, i, e):\n",
    "        for j in range(self.count, i, -1):\n",
    "            self.internal_array[j] = self.internal_array[j-1]\n",
    "        \n",
    "        self.internal_array[i] = e\n",
    "        self.count += 1\n",
    "        \n",
    "        if len(self.internal_array) == self.count:\n",
    "            self._resize_up()\n",
    "            \n",
    "    def swap(self, i1, i2):\n",
    "        self.internal_array[i1], self.internal_array[i2] = self.internal_array[i2], self.internal_array[i1]\n",
    "    \n",
    "    def _resize_up(self):\n",
    "        bigger_array = [0 for i in range(2*len(self.internal_array))]\n",
    "        for i in range(len(self.internal_array)):\n",
    "            bigger_array[i] = self.internal_array[i]\n",
    "            \n",
    "        self.internal_array = bigger_array\n"
   ]
  }
 ],
 "metadata": {
  "kernelspec": {
   "display_name": "Python 3",
   "language": "python",
   "name": "python3"
  },
  "language_info": {
   "codemirror_mode": {
    "name": "ipython",
    "version": 3
   },
   "file_extension": ".py",
   "mimetype": "text/x-python",
   "name": "python",
   "nbconvert_exporter": "python",
   "pygments_lexer": "ipython3",
   "version": "3.5.2"
  }
 },
 "nbformat": 4,
 "nbformat_minor": 1
}
