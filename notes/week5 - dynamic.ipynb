{
 "cells": [
  {
   "cell_type": "markdown",
   "metadata": {
    "collapsed": true,
    "pycharm": {
     "name": "#%% md\n"
    }
   },
   "source": [
    "# Dynamic Programming\n"
   ]
  },
  {
   "cell_type": "markdown",
   "metadata": {
    "pycharm": {
     "metadata": false,
     "name": "#%% md\n"
    }
   },
   "source": [
    "Dynamic programming is the an optimisation method of breaking a problem down into smaller\n",
    "parts, solving these smaller parts, and storing these results for future use so that\n",
    "they do not have to be recomputed again. This means that the same calculation is never computed twice.\n",
    "<br>\n",
    "#### Memoisation  \n",
    "Memoisation is the idea of storing already computed results somewhere for later use. <br>\n",
    "This avoid repeated computation of the same functions. \n",
    "\n",
    "### Fibonacci recursive solution\n",
    "This recursive solution is not very efficient as it ends up recalculating fib for the same numbers \n",
    "many times. This is very expensive!"
   ]
  },
  {
   "cell_type": "code",
   "execution_count": 4,
   "metadata": {
    "pycharm": {
     "is_executing": false,
     "metadata": false,
     "name": "#%%\n"
    }
   },
   "outputs": [
    {
     "name": "stdout",
     "output_type": "stream",
     "text": [
      "8\n"
     ]
    }
   ],
   "source": [
    "def fib(n):\n",
    "    if n <= 1:\n",
    "        return n\n",
    "    return fib(n-1) + fib(n-2)\n",
    "\n",
    "print(fib(6))"
   ]
  },
  {
   "cell_type": "markdown",
   "metadata": {
    "pycharm": {
     "metadata": false,
     "name": "#%% md\n"
    }
   },
   "source": [
    "### Fibonacci dynamic solution \n",
    "This dynamic solution makes use of memoisation to store the computation of each recursive call \n",
    "made during the runtime. When it encounters a value that it has already computed it simply\n",
    "fetches the result from the memo."
   ]
  },
  {
   "cell_type": "code",
   "execution_count": 9,
   "metadata": {
    "pycharm": {
     "is_executing": false,
     "metadata": false,
     "name": "#%% \n"
    }
   },
   "outputs": [
    {
     "name": "stdout",
     "output_type": "stream",
     "text": [
      "69283081864224717136290077681328518273399124385204820718966040597691435587278383112277161967532530675374170857404743017623467220361778016172106855838975759985190398725\n"
     ]
    }
   ],
   "source": [
    "def fib_memo(n):\n",
    "    memo = [-1 for i in range(n+1)]  # Create the memo and pre fill it with -1\n",
    "    return fib_memo_aux(n, memo)  # Begin the calculation passing in the memo\n",
    "\n",
    "def fib_memo_aux(n, memo):\n",
    "    # If the memo for this element is not -1 (i.e it has already been calculated), return that\n",
    "    if memo[n] != -1:\n",
    "        return memo[n]\n",
    "    \n",
    "    \n",
    "    if n <= 1:  # Base case - terminates the recursion\n",
    "        memo[n] = n\n",
    "    else:  # General case - recursively call and store the result in the memo for this n value\n",
    "        memo[n] = fib_memo_aux(n-1, memo) + fib_memo_aux(n-2, memo)\n",
    "    \n",
    "    # Note: \n",
    "    # A result is always computed and stored in the memo first before its returned\n",
    "    \n",
    "    return memo[n] # Return the result from memo\n",
    "\n",
    "print(fib_memo(800))"
   ]
  },
  {
   "cell_type": "markdown",
   "metadata": {
    "pycharm": {
     "metadata": false,
     "name": "#%% md\n"
    }
   },
   "source": [
    "### Dynamic programming bottom up solution \n",
    "Instead of recursively going down from a number (i.e. decrementing it and recursively calling). <br>\n",
    "The bottom up approach is the reverse, whereby if we know the computation of the base cases <br>\n",
    "We can build up the general cases from just those. "
   ]
  },
  {
   "cell_type": "markdown",
   "metadata": {
    "pycharm": {
     "metadata": false,
     "name": "#%% md\n"
    }
   },
   "source": [
    "### Fibonacci bottom up\n",
    "The base cases where n = 0 and n = 1 can be filled into the memo <br>\n",
    "The general cases where n > 1 can then be built with the base cases"
   ]
  },
  {
   "cell_type": "code",
   "execution_count": null,
   "metadata": {
    "pycharm": {
     "metadata": false,
     "name": "#%%\n"
    }
   },
   "outputs": [],
   "source": [
    "def fib_bottom_up(n):\n",
    "    memo = [-1 for i in range(n+1)] \n",
    "    memo[0] = 0\n",
    "    memo[1] = 1\n",
    "    \n",
    "    for i in range(2, n+1):\n",
    "        memo[i] = memo[i-1] + memo[i-2]\n",
    "    \n",
    "    return memo[n]\n",
    "\n",
    "print(fib_bottom_up(10000))"
   ]
  },
  {
   "cell_type": "markdown",
   "metadata": {
    "pycharm": {
     "metadata": false,
     "name": "#%% md\n"
    }
   },
   "source": [
    "### Least coin split recursive solution\n",
    "Assume a list of coins C = [200, 100, 50, 20, 10, 5, 2, 1] <br>\n",
    "Given an amount m of money, find the minimum amount of coins from C whose value adds up to m. <br>\n",
    "Suppose that m is to be split using coins from C via index i <br>\n",
    "There are two base cases:\n",
    "\n",
    "1. If m = 0, there is nothing left to split, return 0\n",
    "2. If i = len(C)-1, this is the last coin (1p) so it can be returned, return m\n",
    "\n",
    "Otherwise, the general case is as follows:\n",
    "\n",
    "1. Leave the i-th out of the split and compute m in coins from C using i+1 as the index\n",
    "2. If m >= C[i], keep the i-th in the split and compute m in coins from C using i as the index\n",
    "3. Do this recursively "
   ]
  },
  {
   "cell_type": "code",
   "execution_count": 11,
   "metadata": {
    "pycharm": {
     "is_executing": false,
     "metadata": false,
     "name": "#%%\n"
    }
   },
   "outputs": [],
   "source": [
    "C = [200, 100, 50, 20, 10, 5, 2, 1]\n",
    "\n",
    "def coin_split_recursive(m):\n",
    "    coin_split_recursive_aux(m, 0)\n",
    "    \n",
    "def coin_split_recursive_aux(m, i): \n",
    "    if m == 0:\n",
    "        return 0\n",
    "    \n",
    "    if i == len(C)-1:\n",
    "        return m\n",
    "    \n",
    "    without_this_coin = coin_split_recursive_aux(m, i + 1)\n",
    "    if C[i] <= m:\n",
    "        with_this_coin = 1 + coin_split_recursive_aux(m-C[i], i)\n",
    "        \n",
    "        if with_this_coin < without_this_coin:\n",
    "            return with_this_coin\n",
    "    \n",
    "    return without_this_coin"
   ]
  },
  {
   "cell_type": "markdown",
   "metadata": {
    "pycharm": {
     "metadata": false,
     "name": "#%% md\n"
    }
   },
   "source": [
    "### Least coin split memoisation solution\n",
    "To add memoisation, store the recursive calls in a 2 **dimensional array**. <br>\n",
    "Use two dimensional because there are two arguments **m and i**. <br>"
   ]
  },
  {
   "cell_type": "code",
   "execution_count": null,
   "metadata": {
    "pycharm": {
     "metadata": false,
     "name": "#%%\n"
    }
   },
   "outputs": [],
   "source": [
    "def coin_split_memo(m):\n",
    "    memo = [[-1 for i in range(len(C))] for i in range(m + 1)]\n",
    "    return coin_split_memo_aux(m, 0, memo)\n",
    "        \n",
    "def coin_split_memo_aux(m, i, memo):\n",
    "    # If the computation for this m and i have already been computed, return that\n",
    "    if memo[m][i] != -1:\n",
    "        return memo[m][i]\n",
    "    \n",
    "    if m == 0:  # Base case if there is nothing left to split\n",
    "        memo[m][i] = 0\n",
    "    elif i == len(C)-1:  # Base case if this is the last coin\n",
    "        memo[m][i] = m\n",
    "    else:  # General case \n",
    "        without_this_coin = coin_split_memo_aux(m, i+1, memo)\n",
    "        memo[m][i] = without_this_coin\n",
    "        \n",
    "        if C[i] <= m:\n",
    "            with_this_coin = 1 + coin_split_memo_aux(m, i, memo)\n",
    "        \n",
    "            if with_this_coin < without_this_coin:\n",
    "                memo[m][i] = with_this_coin\n",
    "            \n",
    "        return memo[m][i]"
   ]
  },
  {
   "cell_type": "markdown",
   "metadata": {
    "pycharm": {
     "metadata": false,
     "name": "#%% md\n"
    }
   },
   "source": [
    "### Least coin split bottom up solution\n",
    "The bottom up solution:\n",
    "1. Build an empty memo array\n",
    "    1. memo[m][start_coin] = 0 for m = 0\n",
    "    2. memo[m][start_coin] = m for start_coin = len(coin)-1 (it is the last coin)\n",
    "2. Fill the rest of the memo using the following:\n",
    "    1. Look up the value for **not including the coin** using memo[m][start_coin+1]\n",
    "    2. If the start_coin is less than or eqaul to m, look up the value of <br>\n",
    "    **including the coin** using memo[m-C[start_coin]][start_coin] \n",
    "    3. Compare the two values and set memo[m][start_coin] the lesser of the two\n",
    "4. Return memo[m][0] for the number of coins needed for value m"
   ]
  },
  {
   "cell_type": "code",
   "execution_count": 20,
   "metadata": {
    "pycharm": {
     "is_executing": false,
     "metadata": false,
     "name": "#%%\n"
    }
   },
   "outputs": [
    {
     "name": "stdout",
     "output_type": "stream",
     "text": [
      "14\n"
     ]
    }
   ],
   "source": [
    "def coin_split_bottom_up(m_initial):\n",
    "    memo = [[-1 for i in range(len(C))] for i in range(m_initial+1)]\n",
    "    \n",
    "    # Base case - if m = 0, memo[m][i] = 0\n",
    "    for i in range(len(C)):\n",
    "        memo[0][i] = 0\n",
    "    \n",
    "    # Base case - if i = len(C)-1 (is the last coin), memo[m][i] = m\n",
    "    for m in range(m_initial + 1):\n",
    "        memo[m][len(C)-1] = m\n",
    "    \n",
    "    # General case\n",
    "    for m in range(1, m_initial+1):  \n",
    "        for i in range(len(C)-2, -1, -1):\n",
    "            without_this_coin = memo[m][i+1]\n",
    "            memo[m][i] = without_this_coin\n",
    "            \n",
    "            if C[i] <= m:\n",
    "                with_this_coin = 1 + memo[m-C[i]][i]\n",
    "                \n",
    "                if with_this_coin < without_this_coin:\n",
    "                    memo[m][i] = with_this_coin\n",
    "    \n",
    "    return memo[m_initial][0]\n",
    "\n",
    "print(coin_split_bottom_up(2502))"
   ]
  },
  {
   "cell_type": "markdown",
   "metadata": {
    "pycharm": {
     "metadata": false,
     "name": "#%% md\n"
    }
   },
   "source": [
    "### Longest palindrome\n",
    "For a given string s, find the longest, palindromic substring in s. <br>"
   ]
  },
  {
   "cell_type": "markdown",
   "metadata": {
    "pycharm": {
     "metadata": false,
     "name": "#%% md\n"
    }
   },
   "source": [
    "#### Longest palindrome recursive solution\n",
    "1. Base case - if the string s has length less than or equal to 1 return s\n",
    "2. General case:\n",
    "    1. If s begins and ends with the same character c <br> \n",
    "    then return c + **longest palindrome of sMid** + c <br>\n",
    "    where **longest palindrome of sMid** is obtained by another recursive call\n",
    "    2. If s begins and ends with different characters c1 and c2 <br> \n",
    "    then return the longest of the two:\n",
    "        1. The longest palindrome of **c1 + sMid**\n",
    "        2. The longest palindrome of **c2 + sMid** <br>\n",
    "        Whereby these are obtained with another recursive call."
   ]
  },
  {
   "cell_type": "code",
   "execution_count": null,
   "metadata": {
    "pycharm": {
     "metadata": false,
     "name": "#%%\n"
    }
   },
   "outputs": [],
   "source": [
    "def palindrome_recursive(s):\n",
    "    return palindrome_recursive_aux(s, 0, len(s))\n",
    "\n",
    "def palindrome_recursive_aux(s, first_index, last_index):\n",
    "    # Base case\n",
    "    if last_index - first_index <= 1:\n",
    "        return s[first_index:last_index]\n",
    "    \n",
    "    # General case - If the first and last character are the same\n",
    "    if s[first_index] == s[last_index-1]:\n",
    "        return s[first_index] + palindrome_recursive_aux(s, first_index + 1, last_index - 1) + s[last_index-1]\n",
    "    \n",
    "    # General case - If the first and last character are not the same\n",
    "    s1 = palindrome_recursive_aux(s, first_index, last_index - 1)\n",
    "    s2 = palindrome_recursive_aux(s, first_index + 1, last_index)\n",
    "    \n",
    "    if len(s1) < len(s2):\n",
    "        return s2\n",
    "    \n",
    "    return s1"
   ]
  },
  {
   "cell_type": "markdown",
   "metadata": {
    "pycharm": {
     "metadata": false,
     "name": "#%% md\n"
    }
   },
   "source": [
    "#### Longest palindrome memoisation solution\n",
    "Store the computation in a two dimensional array for varying first and last characters."
   ]
  },
  {
   "cell_type": "code",
   "execution_count": 38,
   "metadata": {
    "pycharm": {
     "is_executing": false,
     "metadata": false,
     "name": "#%%\n"
    }
   },
   "outputs": [
    {
     "name": "stdout",
     "output_type": "stream",
     "text": [
      "dalloollad\n"
     ]
    }
   ],
   "source": [
    "def palindrome_memo(s):\n",
    "    # Base case\n",
    "    if len(s) == 0:\n",
    "        return s\n",
    "    \n",
    "    memo = [[None for i in range(len(s)+1)] for i in range(len(s))]\n",
    "    return palindrome_memo_aux(s, 0, len(s), memo)\n",
    "\n",
    "def palindrome_memo_aux(s, first_index, last_index, memo):\n",
    "    if memo[first_index][last_index] is not None :\n",
    "        return memo[first_index][last_index]\n",
    "    \n",
    "    if last_index - first_index <= 1:\n",
    "        memo[first_index][last_index] = s[first_index:last_index]\n",
    "    else:\n",
    "        if s[first_index] == s[last_index - 1]:\n",
    "            memo[first_index][last_index] = s[first_index] + palindrome_memo_aux(s, first_index+1, last_index-1, memo) + s[last_index-1]\n",
    "        else:\n",
    "    \n",
    "            s1 = palindrome_memo_aux(s, first_index, last_index -1, memo)\n",
    "            s2 = palindrome_memo_aux(s, first_index + 1, last_index, memo)\n",
    "            \n",
    "            if len(s1) < len(s2):\n",
    "                memo[first_index][last_index] = s2\n",
    "            else:\n",
    "                memo[first_index][last_index] = s1\n",
    "    \n",
    "    return memo[first_index][last_index]\n",
    "\n",
    "print(palindrome_memo(\"dalloolldsdad\"))\n",
    "\n",
    "\n",
    "\n",
    "\n",
    "\n",
    "\n",
    "\n",
    "\n",
    "\n",
    "\n"
   ]
  }
 ],
 "metadata": {
  "kernelspec": {
   "display_name": "Python 3",
   "language": "python",
   "name": "python3"
  },
  "language_info": {
   "codemirror_mode": {
    "name": "ipython",
    "version": 3
   },
   "file_extension": ".py",
   "mimetype": "text/x-python",
   "name": "python",
   "nbconvert_exporter": "python",
   "pygments_lexer": "ipython3",
   "version": "3.5.2"
  }
 },
 "nbformat": 4,
 "nbformat_minor": 1
}
