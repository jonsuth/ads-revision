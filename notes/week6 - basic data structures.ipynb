{
  "cells": [
    {
      "cell_type": "markdown",
      "metadata": {
        "collapsed": true,
        "pycharm": {
          "name": "#%% md\n"
        }
      },
      "source": "# Basic data structures \n"
    },
    {
      "cell_type": "markdown",
      "source": "A data structure is just a way of storing things. It\u0027s easy to store something but\ntricky to do so in a way that is fast, reliable and useful. ",
      "metadata": {
        "pycharm": {
          "metadata": false,
          "name": "#%% md\n"
        }
      }
    },
    {
      "cell_type": "markdown",
      "source": "### Array List \n* create: a function for creating a new array lsr of list 0\n* get: for reading the i-th element of an array list\n* set: for writing an element e into the i-th element of the array list\n* length: for retrieving the current light of an array list\n* append: for appending an element e at the end of an array list, increasing its length by 1\n* insert: for inserting an element e in the i-th position of an array list and moving \nall subsequent elements one position to the right, increasing its length by 1\n* remove: for removing an element e in the i-th position of an array list and moving \nall subsequent elements one position to the left, decreasing its length by 1",
      "metadata": {
        "pycharm": {
          "metadata": false,
          "name": "#%% md\n"
        }
      }
    },
    {
      "cell_type": "code",
      "execution_count": 1,
      "outputs": [],
      "source": "class ArrayList:\n\n    def __init__(self):\n        self.internal_array \u003d [0 for i in range(10)]\n        self.count \u003d 0\n        \n    def get(self, i):\n        return self.internal_array[i]\n    \n    def set(self, i, e):\n        self.internal_array[i] \u003d e\n        \n    def length(self):\n        return self.count\n    \n    def append(self, e):\n        self.internal_array[self.count] \u003d e\n        self.count +\u003d 1\n        \n        if len(self.internal_array) \u003d\u003d self.count:\n            self._resize_up()\n            \n    def remove(self, i):\n        self.count -\u003d 1\n        to_remove \u003d self.internal_array[i]\n        \n        for j in range(i, self.count):\n            self.internal_array[j] \u003d self.internal_array[j+1]\n        \n        return to_remove\n    \n    def insert(self, i, e):\n        for j in range(self.count, i, -1):\n            self.internal_array[j] \u003d self.internal_array[j-1]\n        \n        self.internal_array[i] \u003d e\n        self.count +\u003d 1\n        \n        if len(self.internal_array) \u003d\u003d self.count:\n            self._resize_up()\n    \n    def _resize_up(self):\n        bigger_array \u003d [0 for i in range(2*len(self.internal_array))]\n        for i in range(len(self.internal_array)):\n            bigger_array[i] \u003d self.internal_array[i]\n            \n        self.internal_array \u003d bigger_array",
      "metadata": {
        "pycharm": {
          "metadata": false,
          "name": "#%% \n",
          "is_executing": false
        }
      }
    },
    {
      "cell_type": "markdown",
      "source": "### Stack\nLast In First Out\n* create: a function for creating a new stack of size zero\n* size: for retrieving the current size of the stack\n* push: for adding an element at the top of a stack, increasing its size by 1\n* pop: for removing the element at the top of the stack, decreasing the size by 1\n\nImplemented using ArrayList from above",
      "metadata": {
        "pycharm": {
          "metadata": false,
          "name": "#%% md\n"
        }
      }
    },
    {
      "cell_type": "code",
      "source": "class Stack:\n    \n    def __init__(self):\n        self.internal_list \u003d ArrayList()\n    \n    def size(self):\n        return self.internal_list.length()\n    \n    def push(self, e):\n        return self.internal_list.append(e)\n    \n    def pop(self):\n        top_element \u003d self.internal_list.length() - 1\n        return self.internal_list.remove(top_element)",
      "metadata": {
        "pycharm": {
          "metadata": false,
          "name": "#%% \n"
        }
      },
      "execution_count": null,
      "outputs": []
    },
    {
      "cell_type": "markdown",
      "source": "### Queue\nFirst In First Out\n* create: a function for creating a new stack of queue zero\n* size: for retrieving the current size of the queue\n* enq: for adding an element at the tail of a queue, increasing its size by 1\n* deq: for removing the element at the head of the queue and returning it, decreasing its size by 1\n\nImplemented using Array List from above",
      "metadata": {
        "pycharm": {
          "metadata": false,
          "name": "#%% md\n"
        }
      }
    },
    {
      "cell_type": "code",
      "execution_count": null,
      "outputs": [],
      "source": "class Queue:\n    \n    def __init__(self):\n        self.internal_list \u003d ArrayList()\n    \n    def size(self):\n        return self.internal_list.length()\n    \n    def enq(self, e):\n        return self.internal_list.append(e)\n    \n    def deq(self):\n        return self.internal_list.remove(0)\n",
      "metadata": {
        "pycharm": {
          "metadata": false,
          "name": "#%% \n"
        }
      }
    }
  ],
  "metadata": {
    "language_info": {
      "codemirror_mode": {
        "name": "ipython",
        "version": 2
      },
      "file_extension": ".py",
      "mimetype": "text/x-python",
      "name": "python",
      "nbconvert_exporter": "python",
      "pygments_lexer": "ipython2",
      "version": "2.7.6"
    },
    "kernelspec": {
      "name": "python3",
      "language": "python",
      "display_name": "Python 3"
    }
  },
  "nbformat": 4,
  "nbformat_minor": 0
}