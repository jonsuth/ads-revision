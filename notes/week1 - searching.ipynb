{
 "cells": [
  {
   "cell_type": "markdown",
   "metadata": {
    "pycharm": {
     "metadata": false
    }
   },
   "source": [
    "# Searching Algorithms\n"
   ]
  },
  {
   "cell_type": "markdown",
   "metadata": {
    "pycharm": {
     "metadata": false
    }
   },
   "source": [
    "The range function <br>\n",
    "The range function is zero-based"
   ]
  },
  {
   "cell_type": "code",
   "execution_count": 5,
   "metadata": {
    "pycharm": {
     "is_executing": false,
     "metadata": false,
     "name": "#%%\n"
    }
   },
   "outputs": [
    {
     "name": "stdout",
     "output_type": "stream",
     "text": [
      "[0, 1, 2, 3, 4, 5, 6, 7, 8, 9]\n",
      "[1, 2, 3, 4, 5, 6, 7, 8, 9]\n",
      "[1, 3, 5, 7, 9]\n"
     ]
    }
   ],
   "source": [
    "print(list(range(10))) # create a list [0 - 9]\n",
    "print(list(range(1, 10))) # create a list [1 - 9]\n",
    "print(list(range(1, 10, 2))) # create a list [1, 3, 5, 7, 9]"
   ]
  },
  {
   "cell_type": "markdown",
   "metadata": {
    "pycharm": {
     "metadata": false,
     "name": "#%% md\n"
    }
   },
   "source": [
    "### Linear search\n",
    "Searches all elements in the list A until and element equal to k is found.\n",
    "Returns k if found or -1 if not found.\n",
    "\n",
    "This is not optimised because if the element is found the remaining elements of the list are still checked."
   ]
  },
  {
   "cell_type": "code",
   "execution_count": null,
   "metadata": {
    "pycharm": {
     "metadata": false,
     "name": "#%%\n"
    }
   },
   "outputs": [],
   "source": [
    "def linear_search(A, k):\n",
    "    found = -1\n",
    "    \n",
    "    for i in range(len(A)):\n",
    "        if A[i] == k:\n",
    "            found = k\n",
    "    \n",
    "    return found"
   ]
  },
  {
   "cell_type": "markdown",
   "metadata": {
    "pycharm": {
     "metadata": false,
     "name": "#%% md\n"
    }
   },
   "source": [
    "### Optimised linear search \n",
    "Searches all elements of the list until and element equal to k is found, return k straight away or return -1."
   ]
  },
  {
   "cell_type": "code",
   "execution_count": null,
   "metadata": {
    "pycharm": {
     "metadata": false,
     "name": "#%%\n"
    }
   },
   "outputs": [],
   "source": [
    "def optimised_linear_search(A, k):\n",
    "    for i in range(len(A)):\n",
    "        if A[i] == k:\n",
    "            return k\n",
    "    return -1"
   ]
  },
  {
   "cell_type": "markdown",
   "metadata": {
    "pycharm": {
     "metadata": false,
     "name": "#%% md\n"
    }
   },
   "source": [
    "### Sorted linear search\n",
    "Searches a sorted list in a linear fashion but returns early if the element currently being looked at is grater than k."
   ]
  },
  {
   "cell_type": "code",
   "execution_count": null,
   "metadata": {
    "pycharm": {
     "metadata": false,
     "name": "#%%\n"
    }
   },
   "outputs": [],
   "source": [
    "def sorted_linear_search(A, k):\n",
    "    for i in range(len(A)):\n",
    "        if A[i] == k:\n",
    "            return k\n",
    "        if A[i] > k:\n",
    "            return -1\n",
    "    return -1"
   ]
  },
  {
   "cell_type": "markdown",
   "metadata": {
    "pycharm": {
     "metadata": false,
     "name": "#%% md\n"
    }
   },
   "source": [
    "### Binary search\n",
    "Searches a sorted list, by starting in the middle. <br>\n",
    "If k is less than the middle element, search the upper half of the list. <br>\n",
    "If k is greater than the middle element, search the lower half of the list. <br>\n",
    "if k is equal to the middle element, return the middle element. <br>\n",
    "Otherwise return -1"
   ]
  },
  {
   "cell_type": "code",
   "execution_count": null,
   "metadata": {
    "pycharm": {
     "metadata": false,
     "name": "#%%\n"
    }
   },
   "outputs": [],
   "source": [
    "def binary_search(A, k):\n",
    "    lower_bound = 0\n",
    "    upper_bound = len(A) - 1\n",
    "    \n",
    "    while lower_bound <= upper_bound:\n",
    "        mid = (lower_bound+upper_bound)//2\n",
    "        if A[mid] == k:\n",
    "            return k\n",
    "        else:\n",
    "            if A[mid] < k:\n",
    "                lower_bound = mid + 1\n",
    "            elif A[mid] > k:\n",
    "                upper_bound = mid - 1\n",
    "    return -1\n"
   ]
  }
 ],
 "metadata": {
  "kernelspec": {
   "display_name": "Python 3",
   "language": "python",
   "name": "python3"
  },
  "language_info": {
   "codemirror_mode": {
    "name": "ipython",
    "version": 3
   },
   "file_extension": ".py",
   "mimetype": "text/x-python",
   "name": "python",
   "nbconvert_exporter": "python",
   "pygments_lexer": "ipython3",
   "version": "3.5.2"
  },
  "stem_cell": {
   "cell_type": "raw",
   "metadata": {
    "pycharm": {
     "metadata": false
    }
   },
   "source": ""
  }
 },
 "nbformat": 4,
 "nbformat_minor": 1
}
