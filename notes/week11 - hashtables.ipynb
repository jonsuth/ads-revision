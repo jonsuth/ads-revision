{
  "cells": [
    {
      "cell_type": "markdown",
      "metadata": {
        "collapsed": true,
        "pycharm": {
          "name": "#%% md\n"
        }
      },
      "source": "# Hashtables\n"
    },
    {
      "cell_type": "markdown",
      "source": "Hash tables are a data structure that allows us to store elements of any type\nin constant time using the following concepts:\n* Store elements in an array\n* Use a constant time **hash function** to compute for each element \nwhat its index in the array should be\n* Use a **linked list in each entry** of the array to avoid collisions \n(when two elements are being assigned to the same index)\n\nSuppose an array of size 10, each entry in the array is an empty linked list: \n\n| Array | - | - | - | - | - | - | - | - | - | - |\n|-------|---|---|---|---|---|---|---|---|---|---|\n| Index | 0 | 1 | 2 | 3 | 4 | 5 | 6 | 7 | 8 | 9 |\n\n* The hashing function is the **{element} modulo {size of the array}**\n* Therefore, **given the size 10 the index of any element e is e%10**\n\nAdding elements:\n1. Calculate index of element \n2. Place index in the head of the linked list",
      "metadata": {
        "pycharm": {
          "metadata": false,
          "name": "#%% md\n"
        }
      }
    },
    {
      "cell_type": "code",
      "source": "class HashTable:\n    \n    def __init__(self):\n        self.internal_list \u003d [LinkedList() for i in range(10)]\n        self.size \u003d 0\n    \n    def hash(self, d):\n        return d % len(self.internal_list)\n    \n    def add(self, d):\n        i \u003d self.hash(d)\n        self.internal_list[i].insert(0, d)\n        self.size +\u003d 1\n    \n    def search(self, d):\n        i \u003d self.hash(d)\n        if self.internal_list[i].search(d) \u003d\u003d -1:\n            return False\n        \n        return True\n    \n    def remove(self, d):\n        i \u003d self.hash(d)\n        old_length \u003d self.internal_list[i].length\n        self.internal_list[i].remove_value(d)\n        \n        if self.internal_list[i].length \u003c old_length:\n            self.size -\u003d 1      ",
      "metadata": {
        "pycharm": {
          "metadata": false,
          "name": "#%%\n"
        }
      },
      "execution_count": null,
      "outputs": []
    },
    {
      "cell_type": "markdown",
      "source": "### Uniform hashing \nThe hash function ensures that elements are uniformly distributed in the \nlinked lists of the hash table. \u003cbr\u003e\nBy spreading uniformly means that each element has equal probability \nto be assigned to any of the linked links in the hash table. \n* If the hash table has **n** elements and an internal array of __m__\n    * Then the average length of each linked list is going to be **n/m**\n\nWhich means :\n* As elements are added to the hash table\n    * The ratio **n/m** increases \n    * The performance decreases (search anc remove take longer)\n    \nSolution: \n* Increase the size of the internal array whenever the ratio gets above\na **constant threshold**",
      "metadata": {
        "pycharm": {
          "metadata": false,
          "name": "#%% md\n"
        }
      }
    },
    {
      "cell_type": "code",
      "execution_count": null,
      "outputs": [],
      "source": "class UniformHashTable:\n    \n    def __init__(self):\n        self.internal_list \u003d [LinkedList() for i in range(10)]\n        self.size \u003d 0\n        self.threshold \u003d 0.75\n        \n    def hash(self, d):\n        length \u003d self.internal_list\n        return ((d//length) + (d % length)) % length\n    \n    def add(self, d):\n        i \u003d self.hash(d)\n        self.internal_list[i].insert(0, d)\n        self.size +\u003d 1\n        \n        if self.size \u003e self.threshold*len(self.internal_list):\n            self._resize_up()\n    \n    def _resize_up(self):\n        old_array \u003d self.internal_list\n        self.internal_list \u003d [LinkedList() for i in range(2*len(old_array))]\n        \n        # Go through all elements of the old array and\n        # Remove it from the old array\n        # Compute its new hash value \n        # Insert the element with the new has as the index into the new array\n        for i in range(len(old_array)):\n            while old_array[i].length \u003e 0:\n                d \u003d old_array.remove(0)\n                new_hash_index \u003d self.hash(d)\n                self.internal_list[new_hash_index].insert(0, d)\n \n  \n\n\n\n\n\n\n\n\n\n\n\n\n\n\n\n\n\n",
      "metadata": {
        "pycharm": {
          "metadata": false,
          "name": "#%%\n"
        }
      }
    },
    {
      "cell_type": "code",
      "execution_count": null,
      "outputs": [],
      "source": "class Node:\n    \n    def __init__(self, d, n):\n        self.data \u003d d\n        self.next \u003d n\n\nclass LinkedList:\n    \n    def __init__(self):\n        self.head \u003d None\n        self.length \u003d 0\n        \n    def search(self, data):\n        i \u003d 0\n        pointer \u003d self.head\n        \n        while pointer is not None :\n            if pointer.data \u003d\u003d data:\n                return i\n            pointer \u003d pointer.next\n            i +\u003d 1\n            \n        return -1\n    \n    def append(self, data):\n        if self.head is None:\n            self.head \u003d Node(data, None)\n        else:\n            pointer \u003d self.head\n            \n            # Get to the last pointer (i.e) the one that is null\n            while pointer is not None:\n                pointer \u003d pointer.next\n            \n            # Point this pointer to a new Node with the data\n            pointer.next \u003d Node(data, None)\n        \n        self.length +\u003d 1\n    \n    def insert(self, data, i):\n        if self.head is None:\n            self.head \u003d Node(data, None)\n        elif i \u003d\u003d 0:\n            self.head \u003d Node(data, self.head)\n        else:\n            pointer \u003d self.head\n            \n            # Start from the head and move the pointer to the next \n            # Until we decrement i until it reaches 1\n            # We decrement because we start from the head (0) and move to \n            # next i times. \n            while i \u003e 1 and pointer.next is not None:\n                pointer \u003d pointer.next\n                i -\u003d 1\n            \n            pointer.next \u003d Node(data, pointer.next)\n        \n        self.length +\u003d 1\n        \n    def remove(self, i):\n        if self.head is None:\n            return  None\n        elif i \u003d\u003d 0:\n            removed \u003d self.head.data\n            self.head \u003d self.head.next\n            self.length -\u003d 1\n            return removed\n        \n        else:\n            pointer \u003d self.head\n            \n            # Start from the head and move the pointer to the next \n            # Until we decrement i til it reaches 1\n            # We decrement because we start from the head (0) and move to \n            # next i times.\n            while i \u003e 1 and pointer.next is not None:\n                pointer \u003d pointer.next\n                i -\u003d 1\n            \n            if i \u003d\u003d 1:\n                removed \u003d pointer.next.data\n                pointer.next \u003d pointer.next.next\n                self.length -\u003d 1\n                return removed\n        \n        return None\n",
      "metadata": {
        "pycharm": {
          "metadata": false,
          "name": "#%%\n"
        }
      }
    }
  ],
  "metadata": {
    "language_info": {
      "codemirror_mode": {
        "name": "ipython",
        "version": 2
      },
      "file_extension": ".py",
      "mimetype": "text/x-python",
      "name": "python",
      "nbconvert_exporter": "python",
      "pygments_lexer": "ipython2",
      "version": "2.7.6"
    },
    "kernelspec": {
      "name": "python3",
      "language": "python",
      "display_name": "Python 3"
    }
  },
  "nbformat": 4,
  "nbformat_minor": 0
}