{
 "cells": [
  {
   "cell_type": "markdown",
   "metadata": {
    "collapsed": true,
    "pycharm": {
     "name": "#%% md\n"
    }
   },
   "source": [
    "# Greedy Algorithms\n"
   ]
  },
  {
   "cell_type": "markdown",
   "metadata": {
    "pycharm": {
     "metadata": false,
     "name": "#%% md\n"
    }
   },
   "source": [
    "A greedy algorithm is an algorithm that always takes the best/cheapest option available at the moment\n",
    "without taking into consideration the consequences further out in the algorithm. <br> \n",
    "The greedy algorithm works with the principle that taking the best option at the current moment may\n",
    "yield the best option overall. "
   ]
  },
  {
   "cell_type": "markdown",
   "metadata": {
    "pycharm": {
     "metadata": false,
     "name": "#%% md\n"
    }
   },
   "source": [
    "### Least coin split \n",
    "Assume a list of coins C = [200, 100, 50, 20, 10, 5, 2, 1] <br>\n",
    "Given an amount m of money, find the minimum amount of coins from C whose value adds up to m.\n",
    "\n",
    "#### Naive solution \n",
    "Pick a coin c from C whose value is less than or equal to m and compute:\n",
    "1. The minimum number of coins that m can be split into **without including the coin c**\n",
    "2. The minimum number of coins that m can be split into **including the coin c**\n",
    "3. Return the minimum number from these two cases\n",
    "\n",
    "#### Greedy solution (recursive)\n",
    "1. Pick the largest coin c from C whose value is less than or equal to m\n",
    "2. Find the minimum number of coins adding up to m - c (whereby m = m - c)\n",
    "3. **Repeat steps 1 and 2**"
   ]
  },
  {
   "cell_type": "code",
   "execution_count": 6,
   "metadata": {
    "pycharm": {
     "is_executing": false,
     "metadata": false,
     "name": "#%%\n"
    }
   },
   "outputs": [
    {
     "name": "stdout",
     "output_type": "stream",
     "text": [
      "5\n",
      "0\n"
     ]
    }
   ],
   "source": [
    "def greedy_coin_split(m):\n",
    "    C = [200, 100, 50, 20, 10, 5, 2, 1]\n",
    "    \n",
    "    # Base case - if the amount is 0, terminate\n",
    "    if m == 0:\n",
    "        return 0\n",
    "    \n",
    "    # General case\n",
    "    for i in range(len(C)):\n",
    "        c = C[i]\n",
    "        if c <= m:\n",
    "            return 1 + greedy_coin_split(m - c)\n",
    "\n",
    "print(greedy_coin_split(158))\n",
    "print(0*2)"
   ]
  },
  {
   "cell_type": "markdown",
   "metadata": {
    "pycharm": {
     "metadata": false,
     "name": "#%% md\n"
    }
   },
   "source": [
    "### Event scheduling \n",
    "Suppose we have a venue and we want to schedule events: <br>\n",
    "* At each time there can be at most one event scheduled \n",
    "* We want to schedule as many events as possible\n",
    "* Return the maximum number of events that we can schedule\n",
    "\n",
    "An Event is represented as:"
   ]
  },
  {
   "cell_type": "code",
   "execution_count": null,
   "metadata": {
    "pycharm": {
     "metadata": false,
     "name": "#%%\n"
    }
   },
   "outputs": [],
   "source": [
    "class Event:\n",
    "    def __init__(self, start_time, end_time):\n",
    "        self.start_time = start_time\n",
    "        self.end_time = end_time"
   ]
  },
  {
   "cell_type": "markdown",
   "metadata": {
    "pycharm": {
     "metadata": false
    }
   },
   "source": [
    "#### Naive recursive solution \n",
    "Start with an empty schedule <br>\n",
    "Pick the next event E that can be scheduled and compute:\n",
    "1. The maximum number of events that can be scheduled **if E is scheduled**\n",
    "2. The maximum number of events that can be scheduled **if E is not scheduled**\n",
    "3. Return the maximum number of events between the two cases"
   ]
  },
  {
   "cell_type": "code",
   "execution_count": null,
   "metadata": {
    "pycharm": {
     "metadata": false,
     "name": "#%%\n"
    }
   },
   "outputs": [],
   "source": [
    "def schedule(E):\n",
    "    return schedule_aux(E, 0, 0)\n",
    "\n",
    "def schedule_aux(E, event_position, start_time):   \n",
    "    # Find the most suitable event that is:\n",
    "    # Not the last event in the list of events\n",
    "    # And has a event start time that is before the given start time\n",
    "    while event_position < len(E) and E[event_position].startTime < start_time:\n",
    "        event_position += 1\n",
    "    \n",
    "    if event_position == len(E):\n",
    "        return 0\n",
    "    \n",
    "    # Move to the next event without changing the start time\n",
    "    without_this_event = schedule_aux(E, event_position + 1, start_time)\n",
    "    \n",
    "    # Move to the next event with changing the start time\n",
    "    # Increment the result by one to factor in this event\n",
    "    with_this_event = 1 + schedule_aux(E, event_position + 1, E[event_position].end_time)\n",
    "    \n",
    "    # Compare the difference and return the maximum of the two \n",
    "    if with_this_event < without_this_event:\n",
    "        return without_this_event\n",
    "    return with_this_event"
   ]
  },
  {
   "cell_type": "markdown",
   "metadata": {
    "pycharm": {
     "metadata": false,
     "name": "#%% md\n"
    }
   },
   "source": [
    "#### Greedy solution\n",
    "Start with an empty schedule <br>\n",
    "1. Pick an event E that has the earliest end time of all events that can be scheduled\n",
    "2. Take account for this event and recursively call step 1 \n",
    "3. Return the max number of events that can be scheduled "
   ]
  },
  {
   "cell_type": "code",
   "execution_count": null,
   "metadata": {
    "pycharm": {
     "metadata": false,
     "name": "#%% \n"
    }
   },
   "outputs": [],
   "source": [
    "def greedy_schedule(E):\n",
    "    return greedy_schedule_aux(E, 0, 0)\n",
    "\n",
    "def greedy_schedule_aux(E, event_position, start_time):\n",
    "    # Find the most suitable event that is:\n",
    "    # Not the last event in the list of events\n",
    "    # And has a event start time that is before the given start time\n",
    "    while event_position < len(E) and E[event_position].startTime < start_time:\n",
    "        event_position += 1\n",
    "    \n",
    "    # Base case - if end of events list, terminate\n",
    "    if event_position == len(E):\n",
    "        return 0\n",
    "    \n",
    "    # Find the event with the earliest end time and store its position\n",
    "    earliest_event_position = event_position\n",
    "    for i in range(event_position + 1, len(E)):\n",
    "        if E[i].endTime < E[earliest_event_position].endTime:\n",
    "            earliest_event_position = i\n",
    "            \n",
    "    # General case - recursively call with the earliest found event end time \n",
    "    # And start with the next event\n",
    "    return 1 + greedy_schedule_aux(E, earliest_event_position + 1, E[earliest_event_position].endTime)\n",
    "\n"
   ]
  }
 ],
 "metadata": {
  "kernelspec": {
   "display_name": "Python 3",
   "language": "python",
   "name": "python3"
  },
  "language_info": {
   "codemirror_mode": {
    "name": "ipython",
    "version": 3
   },
   "file_extension": ".py",
   "mimetype": "text/x-python",
   "name": "python",
   "nbconvert_exporter": "python",
   "pygments_lexer": "ipython3",
   "version": "3.5.2"
  }
 },
 "nbformat": 4,
 "nbformat_minor": 1
}
