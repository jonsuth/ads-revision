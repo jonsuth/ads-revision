{
 "cells": [
  {
   "cell_type": "markdown",
   "metadata": {
    "collapsed": true,
    "pycharm": {
     "name": "#%% md\n"
    }
   },
   "source": [
    "# Recursive algorithms\n"
   ]
  },
  {
   "cell_type": "markdown",
   "metadata": {
    "pycharm": {
     "metadata": false,
     "name": "#%% md\n"
    }
   },
   "source": [
    "A recursive algorithm is an algorithm that calls back on itself. <br>\n",
    "A recursive algorithm contains two parts: <br>\n",
    "The general case - the one that makes the recursive calls <br>\n",
    "The base case - the one that terminates the function and returns a value"
   ]
  },
  {
   "cell_type": "markdown",
   "metadata": {
    "pycharm": {
     "metadata": false,
     "name": "#%% md\n"
    }
   },
   "source": [
    "### Recursive search\n",
    "The recursive search is made with a auxiliary function. <br>\n",
    "The auxiliary function is the one that recursively calls itself. <br>\n",
    "First call the auxiliary function, with a starting position of 0. The auxiliary function checks to see if the element \n",
    "in position is equal to k: <br>\n",
    "If it is equal return k <br>\n",
    "If it is not equal, call the auxiliary function again with position +1 <br>\n",
    "The auxiliary function holds the base condition position = length of list (check if last element)"
   ]
  },
  {
   "cell_type": "code",
   "execution_count": null,
   "metadata": {
    "pycharm": {
     "metadata": false,
     "name": "#%%\n"
    }
   },
   "outputs": [],
   "source": [
    "def recursive_search(A, k):\n",
    "    return recursive_search_aux(A, k, 0)\n",
    "\n",
    "def recursive_search_aux(A, k, position):\n",
    "    if position == len(A):\n",
    "        return -1\n",
    "    if A[position] == k:\n",
    "        return position\n",
    "    \n",
    "    return recursive_search_aux(A, k, position + 1)"
   ]
  },
  {
   "cell_type": "markdown",
   "metadata": {
    "pycharm": {
     "metadata": false,
     "name": "#%% md\n"
    }
   },
   "source": [
    "### Recursive merge sort \n",
    "Merge sort is a divide and conquer algorithm that: <br>\n",
    "1. Divides the array in two halves\n",
    "2. Sorts the two halves \n",
    "3. Merges the two halves together\n"
   ]
  },
  {
   "cell_type": "code",
   "execution_count": null,
   "metadata": {
    "pycharm": {
     "metadata": false,
     "name": "#%% \n"
    }
   },
   "outputs": [],
   "source": [
    "def recursive_merge_sort(A):\n",
    "    # Base case - terminate if there is only one element left in the list \n",
    "    if len(A) == 1:\n",
    "        return\n",
    "    \n",
    "    mid = len(A)//2  # Get the middle index of the list \n",
    "    first_half = A[:mid]\n",
    "    second_half = A[mid:]\n",
    "    \n",
    "    # General case - pass in each half of the list back into merge_sort\n",
    "    recursive_merge_sort(first_half)\n",
    "    recursive_merge_sort(second_half)\n",
    "    merge(first_half, second_half, A)  # Merge the two halves back together \n",
    "    \n",
    "def merge(first_half, second_half, A):\n",
    "    i = 0\n",
    "    j1 = 0\n",
    "    j2 = 0\n",
    "    \n",
    "    while j1 < len(first_half) and j2 < len(second_half):\n",
    "        if first_half[j1] < second_half[j2]:\n",
    "            # If the element in the first half is less than that of the second half\n",
    "            # Add the element from the first half in the main list and increment the index j1\n",
    "            A[i] = first_half[j1]\n",
    "            j1 += 1\n",
    "        else:\n",
    "            # Add the element from the second half in the main list and increment the index j2\n",
    "            A[i] = second_half[j2]\n",
    "            j2 += 1\n",
    "            \n",
    "        # Increment main lists index \n",
    "        i += 1\n",
    "    \n",
    "    # Add the remaining elements from the first half and the second half to the end of the main list.      \n",
    "    while j1 < len(first_half):\n",
    "        A[i] = first_half[j1]\n",
    "        j1 += 1\n",
    "        i += 1\n",
    "        \n",
    "    while j2 < len(second_half):\n",
    "        A[i] = second_half[j2]\n",
    "        j2 += 1\n",
    "        i += 1"
   ]
  },
  {
   "cell_type": "markdown",
   "metadata": {
    "pycharm": {
     "metadata": false,
     "name": "#%% md\n"
    }
   },
   "source": [
    "### Recursive quicksort \n",
    "Quick sort is another divide and conquer algorithm that: <br>\n",
    "Given a list A, \n",
    "1. Pick the first element of A as the pivot\n",
    "2. Partition A in a way such that: \n",
    "    1. All the elements less than the pivot are in the first half of the list\n",
    "    2. All the elements greater than or equal to the pivot are in the second half\n",
    "\n",
    "Recursively sort the first and second half in the same way as steps 1 and 2"
   ]
  },
  {
   "cell_type": "code",
   "execution_count": null,
   "metadata": {
    "pycharm": {
     "metadata": false,
     "name": "#%%\n"
    }
   },
   "outputs": [],
   "source": [
    "def recursive_quick_sort(A):\n",
    "    recursive_quick_sort_aux(A, 0, len(A))\n",
    "    \n",
    "def recursive_quick_sort_aux(A, lower_bound, upper_bound):\n",
    "    # Base case - If the difference between the upper and lower bound is less than or equal to 1\n",
    "    # terminate because all elements in the list have now been checked.\n",
    "    if upper_bound - lower_bound <= 1:\n",
    "        return \n",
    "    \n",
    "    # Partition A as per steps 1 and 2 and get the index of the pivot\n",
    "    pivot_index = partition(A, lower_bound, upper_bound)\n",
    "    \n",
    "    recursive_quick_sort_aux(A, lower_bound, pivot_index)\n",
    "    recursive_quick_sort_aux(A, pivot_index + 1, upper_bound)\n",
    "    \n",
    "def partition(A, first_a, second_a):\n",
    "    pivot = A[first_a]\n",
    "    \n",
    "    # Create a zeros list B to store the partitioned copy of A that is\n",
    "    # between the first half index and the second half index\n",
    "    B = [0 for i in range(first_a, second_a)]  \n",
    "    \n",
    "    # Set the indexes fot the first and second halves of list B\n",
    "    first_b = 0\n",
    "    second_b = len(B) - 1\n",
    "    \n",
    "    # For each element of A between between the first half index + 1 and the second half index\n",
    "    for i in range(first_a + 1, second_a):\n",
    "        if A[i] < pivot:\n",
    "            # If this element is less than the pivot\n",
    "            # put this element in first half of B\n",
    "            # and increment the first half index for B\n",
    "            B[first_b] = A[i]\n",
    "            first_b += 1\n",
    "            \n",
    "        else:\n",
    "            # If this element is greater than or equal to the pivot\n",
    "            # put this element in the second half of the B\n",
    "            # and decrement the second half index for B\n",
    "            B[second_b] = A[i]\n",
    "            second_b -= 1\n",
    "    \n",
    "    # At this point the indexes for the first and second half of B are now equal\n",
    "    # Insert the pivot back into list B\n",
    "    B[first_b] = pivot\n",
    "    \n",
    "    # Copy the values of B back into A\n",
    "    for i in range(first_a, second_a):\n",
    "        A[i] = B[i-first_a]\n",
    "    \n",
    "    return first_a + first_b  # Return the index of the pivot \n",
    "            \n",
    "            \n"
   ]
  }
 ],
 "metadata": {
  "kernelspec": {
   "display_name": "Python 3",
   "language": "python",
   "name": "python3"
  },
  "language_info": {
   "codemirror_mode": {
    "name": "ipython",
    "version": 3
   },
   "file_extension": ".py",
   "mimetype": "text/x-python",
   "name": "python",
   "nbconvert_exporter": "python",
   "pygments_lexer": "ipython3",
   "version": "3.5.2"
  }
 },
 "nbformat": 4,
 "nbformat_minor": 1
}
