{
 "cells": [
  {
   "cell_type": "markdown",
   "metadata": {
    "collapsed": true,
    "pycharm": {
     "name": "#%% md\n"
    }
   },
   "source": [
    "# Sorting algorithms \n"
   ]
  },
  {
   "cell_type": "markdown",
   "metadata": {
    "pycharm": {
     "metadata": false,
     "name": "#%% md\n"
    }
   },
   "source": [
    "### Selection sort\n",
    "Start at the first element and traverse the list until the smallest element is found. <br>\n",
    "Once that is found, swap the smallest element with the fist element. <br>\n",
    "Start at the second element and traverse the list until the smallest element is found. <br>\n",
    "Once that is found, swap the smallest element with the second element. <br>\n",
    "Repeat this process for the remaining elements."
   ]
  },
  {
   "cell_type": "code",
   "execution_count": 17,
   "metadata": {
    "pycharm": {
     "is_executing": false,
     "metadata": false,
     "name": "#%%\n"
    }
   },
   "outputs": [
    {
     "name": "stdout",
     "output_type": "stream",
     "text": [
      "[1, 1, 2, 3, 4, 4, 5, 6, 9]\n"
     ]
    }
   ],
   "source": [
    "def find_smallest(i, A):\n",
    "    smallest_index = i\n",
    "    for j in range(i+1, len(A)):\n",
    "        if A[j] < A[smallest_index]:\n",
    "            smallest_index = j\n",
    "    \n",
    "    return smallest_index\n",
    "\n",
    "def swap(i, j, A):\n",
    "    temp = A[i]\n",
    "    A[i] = A[j]\n",
    "    A[j] = temp\n",
    "    \n",
    "    \n",
    "def selection_sort(A):\n",
    "    for i in range(len(A)):\n",
    "        index_of_smallest = find_smallest(i, A)\n",
    "        swap(i, index_of_smallest, A)\n",
    "    return A\n",
    "\n",
    "print(selection_sort([1, 5, 1, 6, 4, 2, 3, 4, 9]))"
   ]
  },
  {
   "cell_type": "markdown",
   "metadata": {
    "pycharm": {
     "metadata": false,
     "name": "#%% md\n"
    }
   },
   "source": [
    "### Insertion sort \n",
    "Start at the nth element of the list and place that element in order based on all elements of the list up until n-1.\n",
    "This way the list is split into two, the first portion of the list is sorted and the second portion of the list is unsorted, and the algorithm pick elements from the second portion of the list and inserts it in the first portion. "
   ]
  },
  {
   "cell_type": "code",
   "execution_count": 5,
   "metadata": {
    "pycharm": {
     "is_executing": false,
     "metadata": false,
     "name": "#%% \n"
    }
   },
   "outputs": [
    {
     "name": "stdout",
     "output_type": "stream",
     "text": [
      "[1, 1, 2, 3, 4, 4, 5, 6, 7, 9]\n"
     ]
    }
   ],
   "source": [
    "def insert(k, i, A):\n",
    "    # Traverse backwards in the sub list A[0 - i], where A[i] = k\n",
    "    for j in range(i, 0, -1):  \n",
    "        # If k is greater than or equal to the next left element \n",
    "        # Insert k in the position to the right of that element\n",
    "        if k >= A[j - 1]:\n",
    "            A[j] = k\n",
    "            return \n",
    "        # Otherwise shift this element to the right and look at the next element to the left\n",
    "        A[j] = A[j -1]\n",
    "    \n",
    "    # k is smallest element in the sub list A[0 - i], hence A[0] = k\n",
    "    A[0] = k        \n",
    "\n",
    "def insertion_sort(A):\n",
    "    for i in range(1, len(A)):\n",
    "        insert(A[i], i , A)        \n",
    "        \n",
    "    return A\n",
    "        \n",
    "print(insertion_sort([1, 5, 1, 6, 4, 2, 3, 7, 4, 9]))\n"
   ]
  }
 ],
 "metadata": {
  "kernelspec": {
   "display_name": "Python 3",
   "language": "python",
   "name": "python3"
  },
  "language_info": {
   "codemirror_mode": {
    "name": "ipython",
    "version": 3
   },
   "file_extension": ".py",
   "mimetype": "text/x-python",
   "name": "python",
   "nbconvert_exporter": "python",
   "pygments_lexer": "ipython3",
   "version": "3.5.2"
  }
 },
 "nbformat": 4,
 "nbformat_minor": 1
}
