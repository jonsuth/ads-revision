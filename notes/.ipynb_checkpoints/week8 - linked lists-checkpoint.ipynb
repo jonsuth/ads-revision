{
 "cells": [
  {
   "cell_type": "markdown",
   "metadata": {
    "collapsed": true,
    "pycharm": {
     "name": "#%% md\n"
    }
   },
   "source": [
    "# Linked list\n"
   ]
  },
  {
   "cell_type": "markdown",
   "metadata": {
    "pycharm": {
     "metadata": false,
     "name": "#%% md\n"
    }
   },
   "source": [
    "Data is stored in a chain of nodes. Each node has the data being stored and\n",
    "a **pointer** to the next node. \n",
    "The last node has a pointer of **None**."
   ]
  },
  {
   "cell_type": "markdown",
   "metadata": {
    "pycharm": {
     "metadata": false,
     "name": "#%% md\n"
    }
   },
   "source": [
    "### Nodes\n",
    "Each node contains a **data** variable and the ***next*** variable:\n",
    "* Data can be anything (e.g. An integer or string)\n",
    "* Node is of type Node (points directly to another node)"
   ]
  },
  {
   "cell_type": "code",
   "execution_count": 1,
   "metadata": {
    "pycharm": {
     "is_executing": false,
     "metadata": false,
     "name": "#%%\n"
    }
   },
   "outputs": [],
   "source": [
    "class Node:\n",
    "    \n",
    "    def __init__(self, d, n):\n",
    "        self.data = d\n",
    "        self.next = n"
   ]
  },
  {
   "cell_type": "code",
   "execution_count": 8,
   "metadata": {
    "pycharm": {
     "is_executing": false,
     "metadata": false,
     "name": "#%%\n"
    }
   },
   "outputs": [],
   "source": [
    "class LinkedList:\n",
    "    \n",
    "    def __init__(self):\n",
    "        self.head = None\n",
    "        self.length = 0\n",
    "        \n",
    "    def search(self, data):\n",
    "        i = 0\n",
    "        pointer = self.head\n",
    "        \n",
    "        while pointer is not None :\n",
    "            if pointer.data == data:\n",
    "                return i\n",
    "            pointer = pointer.next\n",
    "            i += 1\n",
    "            \n",
    "        return -1\n",
    "    \n",
    "    def append(self, data):\n",
    "        if self.head is None:\n",
    "            self.head = Node(data, None)\n",
    "        else:\n",
    "            pointer = self.head\n",
    "            \n",
    "            # Get to the last pointer (i.e) the one that is null\n",
    "            while pointer is not None:\n",
    "                pointer = pointer.next\n",
    "            \n",
    "            # Point this pointer to a new Node with the data\n",
    "            pointer.next = Node(data, None)\n",
    "        \n",
    "        self.length += 1\n",
    "    \n",
    "    def insert(self, data, i):\n",
    "        if self.head is None:\n",
    "            self.head = Node(data, None)\n",
    "        elif i == 0:\n",
    "            self.head = Node(data, self.head)\n",
    "        else:\n",
    "            pointer = self.head\n",
    "            \n",
    "            # Start from the head and move the pointer to the next \n",
    "            # Until we decrement i until it reaches 1\n",
    "            # We decrement because we start from the head (0) and move to \n",
    "            # next i times. \n",
    "            while i > 1 and pointer.next is not None:\n",
    "                pointer = pointer.next\n",
    "                i -= 1\n",
    "            \n",
    "            pointer.next = Node(data, pointer.next)\n",
    "        \n",
    "        self.length += 1\n",
    "        \n",
    "    def remove(self, i):\n",
    "        if self.head is None:\n",
    "            return  None\n",
    "        elif i == 0:\n",
    "            removed = self.head.data\n",
    "            self.head = self.head.next\n",
    "            self.length -= 1\n",
    "            return removed\n",
    "        \n",
    "        else:\n",
    "            pointer = self.head\n",
    "            \n",
    "            # Start from the head and move the pointer to the next \n",
    "            # Until we decrement i until it reaches 1\n",
    "            # We decrement because we start from the head (0) and move to \n",
    "            # next i times.\n",
    "            while i > 1 and pointer.next is not None:\n",
    "                pointer = pointer.next\n",
    "                i -= 1\n",
    "            \n",
    "            if i == 1:\n",
    "                removed = pointer.next.data\n",
    "                pointer.next = pointer.next.next\n",
    "                self.length -= 1\n",
    "                return removed\n",
    "        \n",
    "        return None"
   ]
  }
 ],
 "metadata": {
  "kernelspec": {
   "display_name": "Python 3",
   "language": "python",
   "name": "python3"
  },
  "language_info": {
   "codemirror_mode": {
    "name": "ipython",
    "version": 3
   },
   "file_extension": ".py",
   "mimetype": "text/x-python",
   "name": "python",
   "nbconvert_exporter": "python",
   "pygments_lexer": "ipython3",
   "version": "3.5.2"
  }
 },
 "nbformat": 4,
 "nbformat_minor": 1
}
