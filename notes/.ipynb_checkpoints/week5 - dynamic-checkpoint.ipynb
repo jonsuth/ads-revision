{
 "cells": [
  {
   "cell_type": "markdown",
   "metadata": {
    "collapsed": true,
    "pycharm": {
     "name": "#%% md\n"
    }
   },
   "source": [
    "# Dynamic Programming\n"
   ]
  },
  {
   "cell_type": "markdown",
   "metadata": {
    "pycharm": {
     "metadata": false,
     "name": "#%% md\n"
    }
   },
   "source": [
    "Dynamic programming is the an optimisation method of breaking a problem down into smaller\n",
    "parts, solving these smaller parts, and storing these results for future use so that\n",
    "they do not have to be recomputed again. This means that the same calculation is never computed twice.\n",
    "</br>\n",
    "#### Memoisation  \n",
    "Memoisation is the idea of storing already computed results somewhere for later use. </br>\n",
    "This avoid repeated computation of the same functions. \n",
    "\n",
    "### Fibonacci recursive solution\n",
    "This recursive solution is not very efficient as it ends up recalculating fib for the same numbers \n",
    "many times. This is very expensive!"
   ]
  },
  {
   "cell_type": "code",
   "execution_count": 4,
   "metadata": {
    "pycharm": {
     "is_executing": false,
     "metadata": false,
     "name": "#%%\n"
    }
   },
   "outputs": [
    {
     "name": "stdout",
     "output_type": "stream",
     "text": [
      "8\n"
     ]
    }
   ],
   "source": [
    "def fib(n):\n",
    "    if n <= 1:\n",
    "        return n\n",
    "    return fib(n-1) + fib(n-2)\n",
    "\n",
    "print(fib(6))"
   ]
  },
  {
   "cell_type": "markdown",
   "metadata": {
    "pycharm": {
     "metadata": false,
     "name": "#%% md\n"
    }
   },
   "source": [
    "### Fibonacci dynamic solution \n",
    "This dynamic solution makes use of memoisation to store the computation of each recursive call \n",
    "made during the runtime. When it encounters a value that it has already computed it simply\n",
    "fetches the result from the memo."
   ]
  },
  {
   "cell_type": "code",
   "execution_count": 6,
   "metadata": {
    "pycharm": {
     "is_executing": false,
     "metadata": false,
     "name": "#%% \n"
    }
   },
   "outputs": [
    {
     "name": "stdout",
     "output_type": "stream",
     "text": [
      "69283081864224717136290077681328518273399124385204820718966040597691435587278383112277161967532530675374170857404743017623467220361778016172106855838975759985190398725\n"
     ]
    }
   ],
   "source": [
    "def fib_memo(n):\n",
    "    memo = [-1 for i in range(n+1)]  # Create the memo and pre fill it with -1\n",
    "    return fib_memo_aux(n, memo)  # Begin the calculation passing in the memo\n",
    "\n",
    "def fib_memo_aux(n, memo):\n",
    "    # If the memo for this element is not -1 (i.e it has already been calculated), return that\n",
    "    if memo[n] != -1:\n",
    "        return memo[n]\n",
    "    \n",
    "    \n",
    "    if n <= 1:  # Base case - terminates the recursion\n",
    "        memo[n] = n\n",
    "    else:  # General case - recursively call and store the result in the memo for this n value\n",
    "        memo[n] = fib_memo_aux(n-1, memo) + fib_memo_aux(n-2, memo)\n",
    "    \n",
    "    # Note: \n",
    "    # A result is always computed and stored in the memo first before its returned\n",
    "    \n",
    "    return memo[n] # Return the result from memo\n",
    "\n",
    "print(fib_memo(800))"
   ]
  },
  {
   "cell_type": "markdown",
   "metadata": {
    "pycharm": {
     "metadata": false,
     "name": "#%% md\n"
    }
   },
   "source": [
    "### Dynamic programming bottom up solution \n",
    "Instead of recursively going down from a number (i.e. decrementing it and recursively calling). </br>\n",
    "The bottom up approach is the reverse, whereby if we know the computation of the base cases <br>\n",
    "We can .\n",
    "\n",
    "\n",
    "\n",
    "\n",
    "\n",
    "\n",
    "\n",
    "\n",
    "\n",
    "\n",
    "\n",
    "\n",
    "\n",
    "\n",
    "\n",
    "\n",
    "\n",
    "\n",
    "\n",
    "\n",
    "\n",
    "\n",
    "\n",
    "\n",
    "\n",
    "\n",
    "\n",
    "\n",
    "\n",
    "\n",
    "\n",
    "\n",
    "\n"
   ]
  }
 ],
 "metadata": {
  "kernelspec": {
   "display_name": "Python 3",
   "language": "python",
   "name": "python3"
  },
  "language_info": {
   "codemirror_mode": {
    "name": "ipython",
    "version": 3
   },
   "file_extension": ".py",
   "mimetype": "text/x-python",
   "name": "python",
   "nbconvert_exporter": "python",
   "pygments_lexer": "ipython3",
   "version": "3.5.2"
  }
 },
 "nbformat": 4,
 "nbformat_minor": 1
}
