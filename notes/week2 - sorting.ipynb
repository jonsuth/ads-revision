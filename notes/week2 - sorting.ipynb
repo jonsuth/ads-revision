{
  "cells": [
    {
      "cell_type": "markdown",
      "metadata": {
        "collapsed": true,
        "pycharm": {
          "name": "#%% md\n"
        }
      },
      "source": "# Sorting algorithms \n"
    },
    {
      "cell_type": "markdown",
      "source": "### Selection sort\nStart at the first element and traverse the list until the smallest element is found. \u003cbr\u003e\nOnce that is found, swap the smallest element with the fist element. \u003cbr\u003e\nStart at the second element and traverse the list until the smallest element is found. \u003cbr\u003e\nOnce that is found, swap the smallest element with the second element. \u003cbr\u003e\nRepeat this process for the remaining elements.",
      "metadata": {
        "pycharm": {
          "metadata": false,
          "name": "#%% md\n"
        }
      }
    },
    {
      "cell_type": "code",
      "execution_count": 17,
      "outputs": [
        {
          "name": "stdout",
          "text": [
            "[1, 1, 2, 3, 4, 4, 5, 6, 9]\n"
          ],
          "output_type": "stream"
        }
      ],
      "source": "def find_smallest(i, A):\n    smallest_index \u003d i\n    for j in range(i+1, len(A)):\n        if A[j] \u003c A[smallest_index]:\n            smallest_index \u003d j\n    \n    return smallest_index\n\ndef swap(i, j, A):\n    temp \u003d A[i]\n    A[i] \u003d A[j]\n    A[j] \u003d temp\n    \n    \ndef selection_sort(A):\n    for i in range(len(A)):\n        index_of_smallest \u003d find_smallest(i, A)\n        swap(i, index_of_smallest, A)\n    return A\n\nprint(selection_sort([1, 5, 1, 6, 4, 2, 3, 4, 9]))",
      "metadata": {
        "pycharm": {
          "metadata": false,
          "name": "#%%\n",
          "is_executing": false
        }
      }
    },
    {
      "cell_type": "markdown",
      "source": "### Insertion sort \nStart at the nth element of the list and place that element in order based on all elements of the list up until n-1.\nThis way the list is split into two, the first portion of the list is sorted and the second portion of the list is unsorted, and the algorithm pick elements from the second portion of the list and inserts it in the first portion. ",
      "metadata": {
        "pycharm": {
          "metadata": false,
          "name": "#%% md\n"
        }
      }
    },
    {
      "cell_type": "code",
      "execution_count": 5,
      "outputs": [
        {
          "name": "stdout",
          "text": [
            "[1, 1, 2, 3, 4, 4, 5, 6, 7, 9]\n"
          ],
          "output_type": "stream"
        }
      ],
      "source": "def insert(k, i, A):\n    # Traverse backwards in the sub list A[0 - i], where A[i] \u003d k\n    for j in range(i, 0, -1):  \n        # If k is greater than or equal to the next left element \n        # Insert k in the position to the right of that element\n        if k \u003e\u003d A[j - 1]:\n            A[j] \u003d k\n            return \n        # Otherwise shift this element to the right and look at the next element to the left\n        A[j] \u003d A[j -1]\n    \n    # k is smallest element in the sub list A[0 - i], hence A[0] \u003d k\n    A[0] \u003d k        \n\ndef insertion_sort(A):\n    for i in range(1, len(A)):\n        insert(A[i], i , A)        \n        \n    return A\n        \nprint(insertion_sort([1, 5, 1, 6, 4, 2, 3, 7, 4, 9]))",
      "metadata": {
        "pycharm": {
          "metadata": false,
          "name": "#%% \n",
          "is_executing": false
        }
      }
    },
    {
      "cell_type": "code",
      "execution_count": 1,
      "outputs": [
        {
          "name": "stdout",
          "text": [
            "False\n"
          ],
          "output_type": "stream"
        }
      ],
      "source": "print(3\u003c3)",
      "metadata": {
        "pycharm": {
          "metadata": false,
          "name": "#%%\n",
          "is_executing": false
        }
      }
    }
  ],
  "metadata": {
    "language_info": {
      "codemirror_mode": {
        "name": "ipython",
        "version": 2
      },
      "file_extension": ".py",
      "mimetype": "text/x-python",
      "name": "python",
      "nbconvert_exporter": "python",
      "pygments_lexer": "ipython2",
      "version": "2.7.6"
    },
    "kernelspec": {
      "name": "python3",
      "language": "python",
      "display_name": "Python 3"
    }
  },
  "nbformat": 4,
  "nbformat_minor": 0
}