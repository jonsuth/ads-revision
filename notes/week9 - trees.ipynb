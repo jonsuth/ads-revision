{
 "cells": [
  {
   "cell_type": "markdown",
   "metadata": {
    "collapsed": true,
    "pycharm": {
     "name": "#%% md\n"
    }
   },
   "source": [
    "# Trees\n"
   ]
  },
  {
   "cell_type": "markdown",
   "metadata": {
    "pycharm": {
     "metadata": false,
     "name": "#%% md\n"
    }
   },
   "source": [
    "Trees are linked lists where each node can point to more than one next node. <br>\n",
    "For each node the next nodes are called its children.\n",
    "* The head is called the root\n",
    "* A node with no children is called a leaf\n",
    "* A pointer connecting two nodes is called an edge"
   ]
  },
  {
   "cell_type": "markdown",
   "metadata": {
    "pycharm": {
     "metadata": false,
     "name": "#%% md\n"
    }
   },
   "source": [
    "### Binary trees\n",
    "A binary tree is one where each node has at most 2 children:\n",
    "* A left child\n",
    "* A right child\n",
    "\n",
    "Each node in the binary tree is represented "
   ]
  },
  {
   "cell_type": "code",
   "execution_count": null,
   "metadata": {
    "pycharm": {
     "metadata": false,
     "name": "#%% \n"
    }
   },
   "outputs": [],
   "source": [
    "class BinaryTreeNode:\n",
    "    \n",
    "    def __init__(self, d, l, r):\n",
    "        self.data = d\n",
    "        self.left = l\n",
    "        self.right = r\n",
    "        \n",
    "    def update_child(self, old_child, new_child):\n",
    "        if self.left == old_child:\n",
    "            self.left = new_child\n",
    "        elif self.right == old_child:\n",
    "            self.right = new_child\n",
    "        else:\n",
    "            raise Exception(\"Error: Cannot update child\")"
   ]
  },
  {
   "cell_type": "markdown",
   "metadata": {
    "pycharm": {
     "metadata": false,
     "name": "#%% md\n"
    }
   },
   "source": [
    "### Depth first search recursive algorithm\n",
    "* Start from root\n",
    "* Recursively search left subtree\n",
    "* Recursively search right subtree"
   ]
  },
  {
   "cell_type": "code",
   "execution_count": null,
   "metadata": {
    "pycharm": {
     "metadata": false,
     "name": "#%%\n"
    }
   },
   "outputs": [],
   "source": [
    "def search_depth_first(tree_node, d):\n",
    "    # Base case \n",
    "    # If the current tree node is None o\n",
    "    # Or contains the data to be searched \n",
    "    if tree_node is None:\n",
    "        return False\n",
    "    if tree_node.data == d:\n",
    "        return True\n",
    "    \n",
    "    # General case \n",
    "    # Search left side recursively \n",
    "    # Search right side recursively \n",
    "    if search_depth_first(tree_node.left, d):\n",
    "        return True\n",
    "    else:\n",
    "        return search_depth_first(tree_node.right, d)"
   ]
  },
  {
   "cell_type": "markdown",
   "metadata": {
    "pycharm": {
     "metadata": false,
     "name": "#%% md\n"
    }
   },
   "source": [
    "### Breadth first search algorithm\n",
    "Searches the nodes of the tree level-by-level from left to right.\n",
    "1. Start from root\n",
    "2. Put all children of root in a queue\n",
    "3. Move one level down\n",
    "4. Put all children of left node in a queue\n",
    "5. Put all children of right node in a queue\n",
    "6. Repeat steps 3, 4, 5"
   ]
  },
  {
   "cell_type": "code",
   "execution_count": null,
   "metadata": {
    "pycharm": {
     "metadata": false,
     "name": "#%%\n"
    }
   },
   "outputs": [],
   "source": [
    "def search_breadth_first(tree, d):\n",
    "    q = Queue()\n",
    "    q.enq(tree)\n",
    "    \n",
    "    # While q is not empty\n",
    "    while q.size() > 0:\n",
    "        \n",
    "        pointer = q.deq()\n",
    "        \n",
    "        if pointer is None:\n",
    "            continue\n",
    "        \n",
    "        if pointer.data == d:\n",
    "            return True\n",
    "        \n",
    "        q.enq(pointer.left)\n",
    "        q.enq(pointer.right)\n",
    "        \n",
    "    return False"
   ]
  },
  {
   "cell_type": "markdown",
   "metadata": {
    "pycharm": {
     "metadata": false,
     "name": "#%% md\n"
    }
   },
   "source": [
    "### Binary Search Tree\n",
    "A type of tree whose nodes are ordered in a very specific way. <br>\n",
    "* The child on the left has a value **smaller than** the parent node\n",
    "* the child on the right has a value **greater  than or equal** to the parent node\n",
    "* This is true for all **nodes including the root**"
   ]
  },
  {
   "cell_type": "code",
   "execution_count": null,
   "metadata": {
    "pycharm": {
     "metadata": false,
     "name": "#%%\n"
    }
   },
   "outputs": [],
   "source": [
    "class BinarySearchTree:\n",
    "    \n",
    "    def __init__(self):\n",
    "        self.root = None\n",
    "        self.size = 0\n",
    "        \n",
    "    def search(self, d):\n",
    "        pointer = self.root\n",
    "        \n",
    "        while pointer is  not None:\n",
    "            if d == pointer.data:\n",
    "                return True    \n",
    "            \n",
    "            if d < pointer.data:\n",
    "                pointer = pointer.left\n",
    "            else: \n",
    "                pointer = pointer.data\n",
    "            \n",
    "        return False\n",
    "\n",
    "    def add(self, d):\n",
    "        node_to_add = BinaryTreeNode(d, None, None)\n",
    "        if self.root is None:\n",
    "            self.root = node_to_add\n",
    "        else:\n",
    "            pointer = self.root\n",
    "            while True:\n",
    "                if node_to_add.d < pointer.data:\n",
    "                    if pointer.left is None:\n",
    "                        pointer.left = node_to_add\n",
    "                        break\n",
    "                    pointer = pointer.left\n",
    "                else:\n",
    "                    if pointer.right is None:\n",
    "                        pointer.right = node_to_add\n",
    "                        break\n",
    "                    pointer = pointer.right\n",
    "            self.size += 1\n",
    "    \n",
    "    def remove(self, d):\n",
    "        if self.root is None:\n",
    "            return \n",
    "        \n",
    "        if self.root.data == d:\n",
    "            return self._remove_root()\n",
    "        \n",
    "        parent_node = None\n",
    "        current_node = self.root\n",
    "        \n",
    "        while current_node is not None and current_node.data != d:\n",
    "            parent_node = current_node\n",
    "            \n",
    "            if d < current_node.data:\n",
    "                current_node = current_node.left\n",
    "            else:\n",
    "                current_node = current_node.right\n",
    "            \n",
    "        if current_node is not None:\n",
    "            return self._remove_node(current_node, parent_node)\n",
    "        \n",
    "    def _remove_root(self):\n",
    "        parent_node = BinaryTreeNode(None, self.root, None)\n",
    "        self._remove_node(self.root, parent_node)\n",
    "        self.root = parent_node.left\n",
    "\n",
    "    def _remove_node(self, node_to_remove, parent_node):\n",
    "        self.size -= 1\n",
    "        \n",
    "        if node_to_remove.left == node_to_remove.right: \n",
    "            # This node is a leaf\n",
    "            parent_node.update_child(node_to_remove, None)\n",
    "        elif node_to_remove.left is None or node_to_remove.right is None:\n",
    "            # This node has exactly one child\n",
    "            if node_to_remove.left is not None:\n",
    "                parent_node.update_child(node_to_remove, node_to_remove.left)\n",
    "            else:\n",
    "                parent_node.update_child(node_to_remove, node_to_remove.right)\n",
    "        else:\n",
    "            # This node has two children\n",
    "            \n",
    "            smallest_node_parent = node_to_remove  # The parent of the smallest node\n",
    "            smallest_node = node_to_remove.right  # The smallest node\n",
    "            \n",
    "            # Find the smallest node to the left of the node to be removed\n",
    "            # This smallest node will replace the node to be removed \n",
    "            while smallest_node.left is not None:\n",
    "                smallest_node_parent = smallest_node\n",
    "                smallest_node = smallest_node.left\n",
    "            \n",
    "            # The parent of the smallest node should now \n",
    "            # point to the right of the smallest node\n",
    "            smallest_node_parent.update_child(smallest_node, smallest_node.right)\n",
    "            \n",
    "            # Replace the node to be removed with the smallest node\n",
    "            parent_node.update_child(node_to_remove, smallest_node)\n",
    "            \n",
    "            \n",
    "            smallest_node.left = node_to_remove.left\n",
    "            smallest_node.right = node_to_remove.right"
   ]
  },
  {
   "cell_type": "markdown",
   "metadata": {
    "pycharm": {
     "metadata": false,
     "name": "#%% md\n"
    }
   },
   "source": [
    "#### Misc Functions (Ignore) "
   ]
  },
  {
   "cell_type": "code",
   "execution_count": null,
   "metadata": {
    "pycharm": {
     "metadata": false,
     "name": "#%% \n"
    }
   },
   "outputs": [],
   "source": [
    "class ArrayList:\n",
    "\n",
    "    def __init__(self):\n",
    "        self.internal_array = [0 for i in range(10)]\n",
    "        self.count = 0\n",
    "        \n",
    "    def get(self, i):\n",
    "        return self.internal_array[i]\n",
    "    \n",
    "    def set(self, i, e):\n",
    "        self.internal_array[i] = e\n",
    "        \n",
    "    def length(self):\n",
    "        return self.count\n",
    "    \n",
    "    def append(self, e):\n",
    "        self.internal_array[self.count] = e\n",
    "        self.count += 1\n",
    "        \n",
    "        if len(self.internal_array) == self.count:\n",
    "            self._resize_up()\n",
    "            \n",
    "    def remove(self, i):\n",
    "        self.count -= 1\n",
    "        to_remove = self.internal_array[i]\n",
    "        \n",
    "        for j in range(i, self.count):\n",
    "            self.internal_array[j] = self.internal_array[j+1]\n",
    "        \n",
    "        return to_remove\n",
    "    \n",
    "    def insert(self, i, e):\n",
    "        for j in range(self.count, i, -1):\n",
    "            self.internal_array[j] = self.internal_array[j-1]\n",
    "        \n",
    "        self.internal_array[i] = e\n",
    "        self.count += 1\n",
    "        \n",
    "        if len(self.internal_array) == self.count:\n",
    "            self._resize_up()\n",
    "    \n",
    "    def _resize_up(self):\n",
    "        bigger_array = [0 for i in range(2*len(self.internal_array))]\n",
    "        for i in range(len(self.internal_array)):\n",
    "            bigger_array[i] = self.internal_array[i]\n",
    "            \n",
    "        self.internal_array = bigger_array\n",
    "\n",
    "class Queue:\n",
    "    \n",
    "    def __init__(self):\n",
    "        self.internal_list = ArrayList()\n",
    "    \n",
    "    def size(self):\n",
    "        return self.internal_list.length()\n",
    "    \n",
    "    def enq(self, e):\n",
    "        return self.internal_list.append(e)\n",
    "    \n",
    "    def deq(self):\n",
    "        return self.internal_list.remove(0)\n"
   ]
  }
 ],
 "metadata": {
  "kernelspec": {
   "display_name": "Python 3",
   "language": "python",
   "name": "python3"
  },
  "language_info": {
   "codemirror_mode": {
    "name": "ipython",
    "version": 3
   },
   "file_extension": ".py",
   "mimetype": "text/x-python",
   "name": "python",
   "nbconvert_exporter": "python",
   "pygments_lexer": "ipython3",
   "version": "3.5.2"
  }
 },
 "nbformat": 4,
 "nbformat_minor": 1
}
