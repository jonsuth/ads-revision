{
  "cells": [
    {
      "cell_type": "markdown",
      "metadata": {
        "pycharm": {}
      },
      "source": [
        "# Lab 2 notebook\n",
        "\n",
        "We have already prepared some tests for you for Question 1.\n",
        "\n",
        "You can answer the rest of the questions by writing code in new cells at the end of this notebook."
      ]
    },
    {
      "cell_type": "code",
      "execution_count": 1,
      "metadata": {
        "pycharm": {
          "is_executing": false
        }
      },
      "outputs": [
        {
          "name": "stdout",
          "text": [
            "[50, 120, 310, 70, 250]\n[-50, 120, -310, 70, 250]\n[5, -12, 31, -7, -25]\n[]\n[]\n"
          ],
          "output_type": "stream"
        }
      ],
      "source": "def multAll(A, k):\n    for i in range(len(A)):\n        A[i] \u003d A[i] * k\n\n# test 0\nA \u003d [5,12,31,7,25]\nmultAll(A, 10)\nprint(A)  # should print [50,120,310,70,250]\n\n# test 1\nA \u003d [-5,12,-31,7,25]\nmultAll(A, 10)\nprint(A)  # should print [-50,120,-310,70,250]\n\n# test 2\nA \u003d [-5,12,-31,7,25]\nmultAll(A, -1)\nprint(A)  # should print [5,-12,31,-7,-25]\n\n# test 3\nA \u003d []\nmultAll(A, 10)\nprint(A)  # should print []\n\n# test 4\nA \u003d []\nmultAll(A, -1)\nprint(A)  # should print []"
    },
    {
      "cell_type": "code",
      "execution_count": 4,
      "metadata": {
        "pycharm": {
          "is_executing": false
        }
      },
      "outputs": [
        {
          "name": "stdout",
          "text": [
            "[50, 120, 310, 70, 250]\n[5, 12, 31, 7, 25]\n[-50, 120, -310, 70, 250]\n[-5, 12, -31, 7, 25]\n[5, -12, 31, -7, -25]\n[-5, 12, -31, 7, 25]\n[]\n[]\n[]\n[]\n"
          ],
          "output_type": "stream"
        }
      ],
      "source": "def multAll2(A, k):\n    B \u003d [0 for i in range(len(A))]\n    for i in range(len(A)):\n        B[i] \u003d A[i] * k\n    return B\n\n# test 0\nA \u003d [5,12,31,7,25]\nprint(multAll2(A, 10))  # should print [50,120,310,70,250]\nprint(A)  # should print [5,12,31,7,25]\n\n# test 1\nA \u003d [-5,12,-31,7,25]\nprint(multAll2(A, 10))  # should print [-50,120,-310,70,250]\nprint(A)  # should print [-5,12,-31,7,25]\n\n# test 2\nA \u003d [-5,12,-31,7,25]\nprint(multAll2(A, -1))  # should print [5,-12,31,-7,-25]\nprint(A)  # should print [-5,12,-31,7,25]\n\n# test 3\nA \u003d []\nprint(multAll2(A, 10))  # should print []\nprint(A)  # should print []\n\n# test 4\nA \u003d []\nprint(multAll2(A, -1))  # should print []\nprint(A)  # should print []"
    },
    {
      "cell_type": "code",
      "execution_count": 9,
      "outputs": [
        {
          "name": "stdout",
          "text": [
            "31\n"
          ],
          "output_type": "stream"
        }
      ],
      "source": "def biggestIn(A):\n    biggest \u003d A[0]\n    \n    for i in range(len(A)):\n        if A[i] \u003e biggest:\n            biggest \u003d A[i]\n    \n    return biggest\n\nprint(biggestIn([5, 12, 31, 7, 25]))",
      "metadata": {
        "pycharm": {
          "metadata": false,
          "name": "#%%\n",
          "is_executing": false
        }
      }
    },
    {
      "cell_type": "code",
      "execution_count": 10,
      "outputs": [
        {
          "name": "stdout",
          "text": [
            "2\n"
          ],
          "output_type": "stream"
        }
      ],
      "source": "def biggestInPos(A):\n    biggestPos \u003d 0\n    \n    for i in range(len(A)):\n        if A[i] \u003e A[biggestPos]:\n            biggestPos \u003d i\n            \n    return biggestPos\n\nprint(biggestInPos([5, 12, 31, 7, 25]))",
      "metadata": {
        "pycharm": {
          "metadata": false,
          "name": "#%%\n",
          "is_executing": false
        }
      }
    },
    {
      "cell_type": "code",
      "execution_count": 12,
      "outputs": [
        {
          "name": "stdout",
          "text": [
            "3\n"
          ],
          "output_type": "stream"
        }
      ],
      "source": "def isIn(k, A):\n    for i in range(len(A)):\n        if A[i] \u003d\u003d k:\n            return True\n    return False\n    \ndef occurInBoth(A, B):\n    occurrences \u003d 0\n    for i in range(len(A)):\n        if isIn(A[i], B):\n            occurrences +\u003d 1\n            \n    return occurrences\n\nprint(occurInBoth([5, 12, 31, 7, 25], [4, 12, 8, 7, 42, 31]))",
      "metadata": {
        "pycharm": {
          "metadata": false,
          "name": "#%%\n",
          "is_executing": false
        }
      }
    },
    {
      "cell_type": "code",
      "execution_count": 17,
      "outputs": [
        {
          "name": "stdout",
          "text": [
            "[2]\n[2, 5, 8]\n"
          ],
          "output_type": "stream"
        }
      ],
      "source": "def append(A, k):\n    B \u003d [0 for i in range(len(A) + 1)]\n    for i in range(len(A)):\n        B[i] \u003d A[i]\n    B[len(A)] \u003d k\n    \n    return B\n\ndef biggestInPos2(A):\n    biggest \u003d biggestIn(A)\n    positions \u003d []\n    for i in range(len(A)):\n        if A[i] \u003d\u003d biggest:\n            positions \u003d append(positions, i)\n    \n    return positions\n\nprint(biggestInPos2([5, 12, 31, 7, 25]))\nprint(biggestInPos2([5, 12, 31, 7, 25, 31, 18, 7, 31]))",
      "metadata": {
        "pycharm": {
          "metadata": false,
          "name": "#%%\n",
          "is_executing": false
        }
      }
    },
    {
      "cell_type": "code",
      "execution_count": null,
      "outputs": [],
      "source": "def occurInBothSorted(A, B):\n    occurrences \u003d 0\n    i \u003d0\n    j \u003d0\n    \n    while i \u003c len(A) and j \u003c len(B):\n        if A[i] \u003c B[j]: \n            # If the element in A is less than the element in B, move to the next element in A\n            i +\u003d 1\n        elif B[j] \u003c A[i]:\n            # If the element in B is less than the element in A, move to the next element in B\n            j +\u003d 1\n        else:\n            # Both elements are the same so increment the occurrences. \n            item \u003d A[i]\n            \n            occurrences +\u003d 1\n            i +\u003d 1\n            j +\u003d 1\n            \n            # Increase the i and j counters until they no longer point to the found item\n            while i \u003c len(A) and j \u003c len(B) and A[i] \u003d\u003d item \u003d\u003d B[i]:\n                i +\u003d 1\n                j +\u003d 1\n    \n    return occurrences",
      "metadata": {
        "pycharm": {
          "metadata": false,
          "name": "#%%\n"
        }
      }
    }
  ],
  "metadata": {
    "kernelspec": {
      "display_name": "Python 3",
      "language": "python",
      "name": "python3"
    },
    "language_info": {
      "codemirror_mode": {
        "name": "ipython",
        "version": 3
      },
      "file_extension": ".py",
      "mimetype": "text/x-python",
      "name": "python",
      "nbconvert_exporter": "python",
      "pygments_lexer": "ipython3",
      "version": "3.6.6"
    }
  },
  "nbformat": 4,
  "nbformat_minor": 2
}