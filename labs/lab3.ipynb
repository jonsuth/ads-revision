{
  "cells": [
    {
      "cell_type": "markdown",
      "metadata": {
        "pycharm": {}
      },
      "source": "# Lab 3 notebook\n"
    },
    {
      "cell_type": "code",
      "execution_count": 5,
      "outputs": [
        {
          "name": "stdout",
          "text": [
            "[1, 10, 9, 10, 5, 0, 7, 1, 10, 6]\n"
          ],
          "output_type": "stream"
        }
      ],
      "source": "import random\n\ndef randomIntArray(s, n):\n    return [random.randint(0, n) for i in range(s)]",
      "metadata": {
        "pycharm": {
          "metadata": false,
          "name": "#%%\n",
          "is_executing": false
        }
      }
    },
    {
      "cell_type": "code",
      "execution_count": 19,
      "outputs": [],
      "source": "import time\n\ndef sort_timed(A):\n    t \u003d time.time()\n    print(\"Sorting:\", A)\n    quick_sort(A)\n    print(\"Sorted:\", A)\n    return time.time() - t",
      "metadata": {
        "pycharm": {
          "metadata": false,
          "name": "#%%\n",
          "is_executing": false
        }
      }
    },
    {
      "cell_type": "code",
      "execution_count": 20,
      "outputs": [
        {
          "name": "stdout",
          "text": [
            "Sorting: [6, 7, 7, 9, 9, 3, 3, 4, 6, 5, 1, 4, 8, 7, 6]\nSorted: [1, 3, 3, 4, 4, 5, 6, 6, 6, 7, 7, 7, 8, 9, 9]\nTime: 0.0017504692077636719\n"
          ],
          "output_type": "stream"
        }
      ],
      "source": "def quick_sort(A):\n    quick_sort_aux(A, 0, len(A))\n    \ndef quick_sort_aux(A, first_half_index, second_half_index):\n    if second_half_index - first_half_index \u003c\u003d 1:\n        return \n    \n    pivot_index \u003d partition(A, first_half_index, second_half_index)\n    quick_sort_aux(A, first_half_index, pivot_index)\n    quick_sort_aux(A, pivot_index + 1, second_half_index)\n    \n\ndef partition(A, first_half_index, second_half_index):\n    pivot \u003d A[first_half_index]\n    B \u003d [0 for i in range(first_half_index, second_half_index)]\n    \n    first_half_index_b \u003d 0\n    second_half_index_b \u003d len(B) - 1\n    \n    for i in range(first_half_index + 1, second_half_index):\n        if A[i] \u003c pivot:\n            B[first_half_index_b] \u003d A[i]\n            first_half_index_b +\u003d 1\n        else:\n            B[second_half_index_b] \u003d A[i]\n            second_half_index_b -\u003d 1\n            \n    B[first_half_index_b] \u003d pivot\n    \n    for i in range(first_half_index, second_half_index):\n        A[i] \u003d B[i-first_half_index]\n        \n    return first_half_index + first_half_index_b\n\nA \u003d randomIntArray(15, 10)\nprint(\"Time:\", sort_timed(A))",
      "metadata": {
        "pycharm": {
          "metadata": false,
          "name": "#%%\n",
          "is_executing": false
        }
      }
    },
    {
      "cell_type": "code",
      "execution_count": 13,
      "outputs": [],
      "source": "def selection_sort(A):\n    for i in range(len(A)):\n        smallest_index \u003d find_smallest(i, A)\n        A[i], A[smallest_index] \u003d A[smallest_index], A[i]\n    return A\n        \n    \ndef find_smallest(i, A):\n    smallest_index \u003d i\n    \n    for j in range(i + 1, len(A)):\n        if A[j] \u003c A[smallest_index]:\n            smallest_index \u003d j\n    return smallest_index",
      "metadata": {
        "pycharm": {
          "metadata": false,
          "name": "#%%\n",
          "is_executing": false
        }
      }
    },
    {
      "cell_type": "code",
      "execution_count": 12,
      "outputs": [],
      "source": "def insertion_sort(A):\n    for i in range(len(A)):\n        insert(A[i], A, i)\n\ndef insert(element_to_insert, A, i):\n    for j in range(i, 0, -1):\n        if element_to_insert \u003e\u003d A[j-1]:\n            A[j] \u003d element_to_insert\n            return \n        A[j] \u003d A[j - 1]\n    \n    A[0] \u003d element_to_insert",
      "metadata": {
        "pycharm": {
          "metadata": false,
          "name": "#%%\n",
          "is_executing": false
        }
      }
    },
    {
      "cell_type": "code",
      "execution_count": 22,
      "outputs": [
        {
          "name": "stdout",
          "text": [
            "Unsorted: [2, 3, 11, 5, 3, 12, 12, 12, 6, 6, 6, 9, 13, 15, 5, 8, 6, 4, 11, 5]\nSorted: [2, 3, 3, 4, 5, 5, 5, 6, 6, 6, 6, 8, 9, 11, 11, 12, 12, 12, 13, 15]\nTime: 0.0020761489868164062\nUnsorted: [2, 3, 3, 4, 5, 5, 5, 6, 6, 6, 6, 8, 9, 11, 11, 12, 12, 12, 13, 15]\nSorted: [2, 3, 3, 4, 5, 5, 5, 6, 6, 6, 6, 8, 9, 11, 11, 12, 12, 12, 13, 15]\nTime: 0.0008046627044677734\nUnsorted: [2, 3, 3, 4, 5, 5, 5, 6, 6, 6, 6, 8, 9, 11, 11, 12, 12, 12, 13, 15]\nSorted: [2, 3, 3, 4, 5, 5, 5, 6, 6, 6, 6, 8, 9, 11, 11, 12, 12, 12, 13, 15]\nTime: 0.0004649162292480469\n"
          ],
          "output_type": "stream"
        }
      ],
      "source": "def sort_with_timed(f, A):\n    t \u003d time.time()\n    print(\"Unsorted:\", A)\n    f(A)\n    t \u003d time.time() - t\n    print(\"Sorted:\", A)\n    \n    print(\"Time:\", t)\n    \nA \u003d randomIntArray(20, 15)\n\nsort_with_timed(insertion_sort, A)\nsort_with_timed(selection_sort, A)\nsort_with_timed(quick_sort, A)",
      "metadata": {
        "pycharm": {
          "metadata": false,
          "name": "#%%\n",
          "is_executing": false
        }
      }
    },
    {
      "cell_type": "code",
      "execution_count": 54,
      "outputs": [],
      "source": "def insertion_sort_with_comparisons(A):\n    print(\"Unsorted:\", A)\n    comparisons \u003d 0\n    for i in range(len(A)):\n        comparisons +\u003d insert_comparisons(A[i], A, i)\n    \n    print(\"Sorted:\", A)\n    print(\"Comparisons:\", comparisons)\n\ndef insert_comparisons(element_to_insert, A, i):\n    comparisons \u003d 0\n    for j in range(i, 0, -1):\n        comparisons +\u003d 1\n        if element_to_insert \u003e\u003d A[j - 1]:\n            A[j] \u003d element_to_insert\n            return comparisons\n            \n        A[j] \u003d A[j - 1]\n    \n    A[0] \u003d element_to_insert\n    \n    return comparisons",
      "metadata": {
        "pycharm": {
          "metadata": false,
          "name": "#%%\n",
          "is_executing": false
        }
      }
    },
    {
      "cell_type": "code",
      "execution_count": 55,
      "outputs": [
        {
          "name": "stdout",
          "text": [
            "Unsorted: [2, 4, 6, 8, 10, 1, 3, 5, 7, 9]\nSorted: [1, 2, 3, 4, 5, 6, 7, 8, 9, 10]\nComparisons: 23\n"
          ],
          "output_type": "stream"
        }
      ],
      "source": "A \u003d [2, 4, 6, 8, 10, 1, 3, 5, 7, 9]\ninsertion_sort_with_comparisons(A)",
      "metadata": {
        "pycharm": {
          "metadata": false,
          "name": "#%%\n",
          "is_executing": false
        }
      }
    },
    {
      "cell_type": "code",
      "execution_count": 62,
      "outputs": [
        {
          "name": "stdout",
          "text": [
            "[1, 5, 5, 12, 5, 4, 0, 10, 4, 7, 1, 11, 8, 7, 1, 12, 8, 1, 8, 11]\n[0, 1, 1, 1, 1, 4, 4, 5, 5, 5, 7, 7, 8, 8, 8, 10, 11, 11, 12, 12]\n"
          ],
          "output_type": "stream"
        }
      ],
      "source": "def constructive_insertion_sort(A):\n    B \u003d [0 for i in range(len(A))]\n    \n    for i in range(len(A)):\n        element_to_insert \u003d A[i]\n        insert_constructive(element_to_insert, i, B)\n        \n    print(A)\n    print(B)\n\ndef insert_constructive(element_to_insert, i, B):\n    for j in range(i, 0, -1):\n        if element_to_insert \u003e\u003d B[j - 1]:\n            B[j] \u003d element_to_insert\n            return \n        B[j] \u003d B[j - 1]\n    \n    B[0] \u003d element_to_insert\n\nA \u003d randomIntArray(20, 15)\nconstructive_insertion_sort(A)\n            \n        \n\n",
      "metadata": {
        "pycharm": {
          "metadata": false,
          "name": "#%%\n",
          "is_executing": false
        }
      }
    }
  ],
  "metadata": {
    "kernelspec": {
      "display_name": "Python 3",
      "language": "python",
      "name": "python3"
    },
    "language_info": {
      "codemirror_mode": {
        "name": "ipython",
        "version": 3
      },
      "file_extension": ".py",
      "mimetype": "text/x-python",
      "name": "python",
      "nbconvert_exporter": "python",
      "pygments_lexer": "ipython3",
      "version": "3.6.6"
    }
  },
  "nbformat": 4,
  "nbformat_minor": 2
}